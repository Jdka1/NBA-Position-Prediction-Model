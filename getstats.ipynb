{
 "cells": [
  {
   "cell_type": "code",
   "execution_count": 1,
   "metadata": {},
   "outputs": [],
   "source": [
    "import requests\n",
    "from bs4 import BeautifulSoup\n",
    "import time\n",
    "import random\n",
    "import pandas as pd\n",
    "import numpy as np\n",
    "\n",
    "\n",
    "    \n",
    "\n",
    "\n",
    "def get_pages():\n",
    "    urls = [f\"https://basketball.realgm.com/nba/stats/2023/Averages/Qualified/points/All/desc/{i}/Regular_Season\" for i in range(1,5)]\n",
    "    \n",
    "    html = requests.get(urls[0]).content\n",
    "    time.sleep(random.uniform(1,3))\n",
    "    soup = BeautifulSoup(html, 'html.parser')\n",
    "\n",
    "    table = soup.find_all('table', {\"data-tablesaw-mode\":\"swipe\"})[0]\n",
    "    stats = [stat.text for stat in table.find('thead').find_all('th')][1:]\n",
    "    stats_df = pd.DataFrame(columns=stats)\n",
    "\n",
    "    for url in urls:\n",
    "        html = requests.get(url).content\n",
    "        time.sleep(random.uniform(1,3))\n",
    "        soup = BeautifulSoup(html, 'html.parser')\n",
    "        \n",
    "        try:\n",
    "            table = soup.find_all('table', {\"data-tablesaw-mode\":\"swipe\"})[0]\n",
    "        except Exception:\n",
    "            break\n",
    "        else:\n",
    "            player_stats_list = []\n",
    "            rows = table.find('tbody').find_all('tr')\n",
    "            for row in rows:\n",
    "                player_stats = row.getText(separator='***').split('***')[1:]\n",
    "                player_stats_list.append(player_stats)\n",
    "\n",
    "\n",
    "            stats_df = pd.concat([stats_df, pd.DataFrame(player_stats_list, columns=stats)])\n",
    "        \n",
    "    return stats_df\n",
    "\n",
    "        \n",
    "\n",
    "\n",
    "data_df = get_pages()"
   ]
  },
  {
   "cell_type": "code",
   "execution_count": 2,
   "metadata": {},
   "outputs": [
    {
     "data": {
      "text/html": [
       "<div>\n",
       "<style scoped>\n",
       "    .dataframe tbody tr th:only-of-type {\n",
       "        vertical-align: middle;\n",
       "    }\n",
       "\n",
       "    .dataframe tbody tr th {\n",
       "        vertical-align: top;\n",
       "    }\n",
       "\n",
       "    .dataframe thead th {\n",
       "        text-align: right;\n",
       "    }\n",
       "</style>\n",
       "<table border=\"1\" class=\"dataframe\">\n",
       "  <thead>\n",
       "    <tr style=\"text-align: right;\">\n",
       "      <th></th>\n",
       "      <th>Player</th>\n",
       "      <th>Team</th>\n",
       "      <th>GP</th>\n",
       "      <th>MPG</th>\n",
       "      <th>PPG</th>\n",
       "      <th>FGM</th>\n",
       "      <th>FGA</th>\n",
       "      <th>FG%</th>\n",
       "      <th>3PM</th>\n",
       "      <th>3PA</th>\n",
       "      <th>...</th>\n",
       "      <th>FTA</th>\n",
       "      <th>FT%</th>\n",
       "      <th>ORB</th>\n",
       "      <th>DRB</th>\n",
       "      <th>RPG</th>\n",
       "      <th>APG</th>\n",
       "      <th>SPG</th>\n",
       "      <th>BPG</th>\n",
       "      <th>TOV</th>\n",
       "      <th>PF</th>\n",
       "    </tr>\n",
       "  </thead>\n",
       "  <tbody>\n",
       "    <tr>\n",
       "      <th>0</th>\n",
       "      <td>Luka Doncic</td>\n",
       "      <td>DAL</td>\n",
       "      <td>11.0</td>\n",
       "      <td>36.9</td>\n",
       "      <td>33.6</td>\n",
       "      <td>11.5</td>\n",
       "      <td>23.6</td>\n",
       "      <td>0.488</td>\n",
       "      <td>2.5</td>\n",
       "      <td>8.5</td>\n",
       "      <td>...</td>\n",
       "      <td>11.0</td>\n",
       "      <td>0.736</td>\n",
       "      <td>0.8</td>\n",
       "      <td>7.5</td>\n",
       "      <td>8.3</td>\n",
       "      <td>7.9</td>\n",
       "      <td>2.0</td>\n",
       "      <td>0.6</td>\n",
       "      <td>3.4</td>\n",
       "      <td>3.3</td>\n",
       "    </tr>\n",
       "    <tr>\n",
       "      <th>1</th>\n",
       "      <td>Stephen Curry</td>\n",
       "      <td>GSW</td>\n",
       "      <td>10.0</td>\n",
       "      <td>35.1</td>\n",
       "      <td>32.6</td>\n",
       "      <td>10.8</td>\n",
       "      <td>21.1</td>\n",
       "      <td>0.512</td>\n",
       "      <td>5.3</td>\n",
       "      <td>12.3</td>\n",
       "      <td>...</td>\n",
       "      <td>6.1</td>\n",
       "      <td>0.934</td>\n",
       "      <td>0.8</td>\n",
       "      <td>6.3</td>\n",
       "      <td>7.1</td>\n",
       "      <td>6.9</td>\n",
       "      <td>1.1</td>\n",
       "      <td>0.1</td>\n",
       "      <td>2.6</td>\n",
       "      <td>2.1</td>\n",
       "    </tr>\n",
       "    <tr>\n",
       "      <th>2</th>\n",
       "      <td>Donovan Mitchell</td>\n",
       "      <td>CLE</td>\n",
       "      <td>10.0</td>\n",
       "      <td>39.2</td>\n",
       "      <td>31.9</td>\n",
       "      <td>11.3</td>\n",
       "      <td>22.0</td>\n",
       "      <td>0.514</td>\n",
       "      <td>4.3</td>\n",
       "      <td>9.6</td>\n",
       "      <td>...</td>\n",
       "      <td>5.8</td>\n",
       "      <td>0.862</td>\n",
       "      <td>1.1</td>\n",
       "      <td>3.1</td>\n",
       "      <td>4.2</td>\n",
       "      <td>5.8</td>\n",
       "      <td>1.3</td>\n",
       "      <td>0.6</td>\n",
       "      <td>3.4</td>\n",
       "      <td>3.2</td>\n",
       "    </tr>\n",
       "    <tr>\n",
       "      <th>3</th>\n",
       "      <td>Giannis Antetokounmpo</td>\n",
       "      <td>MIL</td>\n",
       "      <td>9.0</td>\n",
       "      <td>32.7</td>\n",
       "      <td>31.8</td>\n",
       "      <td>11.4</td>\n",
       "      <td>21.1</td>\n",
       "      <td>0.542</td>\n",
       "      <td>0.9</td>\n",
       "      <td>3.3</td>\n",
       "      <td>...</td>\n",
       "      <td>12.3</td>\n",
       "      <td>0.649</td>\n",
       "      <td>1.9</td>\n",
       "      <td>10.3</td>\n",
       "      <td>12.2</td>\n",
       "      <td>5.3</td>\n",
       "      <td>1.1</td>\n",
       "      <td>1.4</td>\n",
       "      <td>3.3</td>\n",
       "      <td>2.9</td>\n",
       "    </tr>\n",
       "    <tr>\n",
       "      <th>4</th>\n",
       "      <td>Shai Gilgeous-Alexander</td>\n",
       "      <td>OKC</td>\n",
       "      <td>10.0</td>\n",
       "      <td>36.7</td>\n",
       "      <td>31.6</td>\n",
       "      <td>11.7</td>\n",
       "      <td>21.8</td>\n",
       "      <td>0.537</td>\n",
       "      <td>0.9</td>\n",
       "      <td>2.8</td>\n",
       "      <td>...</td>\n",
       "      <td>7.7</td>\n",
       "      <td>0.948</td>\n",
       "      <td>1.0</td>\n",
       "      <td>3.5</td>\n",
       "      <td>4.5</td>\n",
       "      <td>5.6</td>\n",
       "      <td>1.9</td>\n",
       "      <td>1.5</td>\n",
       "      <td>3.1</td>\n",
       "      <td>2.6</td>\n",
       "    </tr>\n",
       "    <tr>\n",
       "      <th>...</th>\n",
       "      <td>...</td>\n",
       "      <td>...</td>\n",
       "      <td>...</td>\n",
       "      <td>...</td>\n",
       "      <td>...</td>\n",
       "      <td>...</td>\n",
       "      <td>...</td>\n",
       "      <td>...</td>\n",
       "      <td>...</td>\n",
       "      <td>...</td>\n",
       "      <td>...</td>\n",
       "      <td>...</td>\n",
       "      <td>...</td>\n",
       "      <td>...</td>\n",
       "      <td>...</td>\n",
       "      <td>...</td>\n",
       "      <td>...</td>\n",
       "      <td>...</td>\n",
       "      <td>...</td>\n",
       "      <td>...</td>\n",
       "      <td>...</td>\n",
       "    </tr>\n",
       "    <tr>\n",
       "      <th>92</th>\n",
       "      <td>Josh Okogie</td>\n",
       "      <td>PHX</td>\n",
       "      <td>10.0</td>\n",
       "      <td>4.9</td>\n",
       "      <td>1.2</td>\n",
       "      <td>0.4</td>\n",
       "      <td>1.2</td>\n",
       "      <td>0.333</td>\n",
       "      <td>0.0</td>\n",
       "      <td>0.6</td>\n",
       "      <td>...</td>\n",
       "      <td>0.6</td>\n",
       "      <td>0.667</td>\n",
       "      <td>0.3</td>\n",
       "      <td>0.9</td>\n",
       "      <td>1.2</td>\n",
       "      <td>0.0</td>\n",
       "      <td>0.3</td>\n",
       "      <td>0.1</td>\n",
       "      <td>0.4</td>\n",
       "      <td>0.6</td>\n",
       "    </tr>\n",
       "    <tr>\n",
       "      <th>93</th>\n",
       "      <td>Paul Reed, Jr.</td>\n",
       "      <td>PHI</td>\n",
       "      <td>9.0</td>\n",
       "      <td>7.4</td>\n",
       "      <td>0.7</td>\n",
       "      <td>0.3</td>\n",
       "      <td>1.2</td>\n",
       "      <td>0.273</td>\n",
       "      <td>0.0</td>\n",
       "      <td>0.2</td>\n",
       "      <td>...</td>\n",
       "      <td>0.0</td>\n",
       "      <td>0.000</td>\n",
       "      <td>0.4</td>\n",
       "      <td>1.3</td>\n",
       "      <td>1.8</td>\n",
       "      <td>0.1</td>\n",
       "      <td>1.2</td>\n",
       "      <td>0.4</td>\n",
       "      <td>0.3</td>\n",
       "      <td>1.7</td>\n",
       "    </tr>\n",
       "    <tr>\n",
       "      <th>94</th>\n",
       "      <td>KZ Okpala</td>\n",
       "      <td>SAC</td>\n",
       "      <td>6.0</td>\n",
       "      <td>6.4</td>\n",
       "      <td>0.5</td>\n",
       "      <td>0.2</td>\n",
       "      <td>0.8</td>\n",
       "      <td>0.200</td>\n",
       "      <td>0.2</td>\n",
       "      <td>0.7</td>\n",
       "      <td>...</td>\n",
       "      <td>0.0</td>\n",
       "      <td>0.000</td>\n",
       "      <td>0.3</td>\n",
       "      <td>0.7</td>\n",
       "      <td>1.0</td>\n",
       "      <td>0.3</td>\n",
       "      <td>0.0</td>\n",
       "      <td>0.0</td>\n",
       "      <td>0.0</td>\n",
       "      <td>0.7</td>\n",
       "    </tr>\n",
       "    <tr>\n",
       "      <th>95</th>\n",
       "      <td>Jaxson Hayes</td>\n",
       "      <td>NOP</td>\n",
       "      <td>5.0</td>\n",
       "      <td>7.4</td>\n",
       "      <td>0.4</td>\n",
       "      <td>0.2</td>\n",
       "      <td>1.0</td>\n",
       "      <td>0.200</td>\n",
       "      <td>0.0</td>\n",
       "      <td>0.4</td>\n",
       "      <td>...</td>\n",
       "      <td>0.4</td>\n",
       "      <td>0.000</td>\n",
       "      <td>0.2</td>\n",
       "      <td>0.8</td>\n",
       "      <td>1.0</td>\n",
       "      <td>0.6</td>\n",
       "      <td>0.2</td>\n",
       "      <td>0.2</td>\n",
       "      <td>0.2</td>\n",
       "      <td>1.0</td>\n",
       "    </tr>\n",
       "    <tr>\n",
       "      <th>96</th>\n",
       "      <td>Cody Martin</td>\n",
       "      <td>CHA</td>\n",
       "      <td>1.0</td>\n",
       "      <td>0.9</td>\n",
       "      <td>0.0</td>\n",
       "      <td>0.0</td>\n",
       "      <td>0.0</td>\n",
       "      <td>0.000</td>\n",
       "      <td>0.0</td>\n",
       "      <td>0.0</td>\n",
       "      <td>...</td>\n",
       "      <td>0.0</td>\n",
       "      <td>0.000</td>\n",
       "      <td>0.0</td>\n",
       "      <td>0.0</td>\n",
       "      <td>0.0</td>\n",
       "      <td>0.0</td>\n",
       "      <td>0.0</td>\n",
       "      <td>0.0</td>\n",
       "      <td>0.0</td>\n",
       "      <td>0.0</td>\n",
       "    </tr>\n",
       "  </tbody>\n",
       "</table>\n",
       "<p>297 rows × 22 columns</p>\n",
       "</div>"
      ],
      "text/plain": [
       "                     Player Team    GP   MPG   PPG   FGM   FGA    FG%  3PM  \\\n",
       "0               Luka Doncic  DAL  11.0  36.9  33.6  11.5  23.6  0.488  2.5   \n",
       "1             Stephen Curry  GSW  10.0  35.1  32.6  10.8  21.1  0.512  5.3   \n",
       "2          Donovan Mitchell  CLE  10.0  39.2  31.9  11.3  22.0  0.514  4.3   \n",
       "3     Giannis Antetokounmpo  MIL   9.0  32.7  31.8  11.4  21.1  0.542  0.9   \n",
       "4   Shai Gilgeous-Alexander  OKC  10.0  36.7  31.6  11.7  21.8  0.537  0.9   \n",
       "..                      ...  ...   ...   ...   ...   ...   ...    ...  ...   \n",
       "92              Josh Okogie  PHX  10.0   4.9   1.2   0.4   1.2  0.333  0.0   \n",
       "93           Paul Reed, Jr.  PHI   9.0   7.4   0.7   0.3   1.2  0.273  0.0   \n",
       "94                KZ Okpala  SAC   6.0   6.4   0.5   0.2   0.8  0.200  0.2   \n",
       "95             Jaxson Hayes  NOP   5.0   7.4   0.4   0.2   1.0  0.200  0.0   \n",
       "96              Cody Martin  CHA   1.0   0.9   0.0   0.0   0.0  0.000  0.0   \n",
       "\n",
       "     3PA  ...   FTA    FT%  ORB   DRB   RPG  APG  SPG  BPG  TOV   PF  \n",
       "0    8.5  ...  11.0  0.736  0.8   7.5   8.3  7.9  2.0  0.6  3.4  3.3  \n",
       "1   12.3  ...   6.1  0.934  0.8   6.3   7.1  6.9  1.1  0.1  2.6  2.1  \n",
       "2    9.6  ...   5.8  0.862  1.1   3.1   4.2  5.8  1.3  0.6  3.4  3.2  \n",
       "3    3.3  ...  12.3  0.649  1.9  10.3  12.2  5.3  1.1  1.4  3.3  2.9  \n",
       "4    2.8  ...   7.7  0.948  1.0   3.5   4.5  5.6  1.9  1.5  3.1  2.6  \n",
       "..   ...  ...   ...    ...  ...   ...   ...  ...  ...  ...  ...  ...  \n",
       "92   0.6  ...   0.6  0.667  0.3   0.9   1.2  0.0  0.3  0.1  0.4  0.6  \n",
       "93   0.2  ...   0.0  0.000  0.4   1.3   1.8  0.1  1.2  0.4  0.3  1.7  \n",
       "94   0.7  ...   0.0  0.000  0.3   0.7   1.0  0.3  0.0  0.0  0.0  0.7  \n",
       "95   0.4  ...   0.4  0.000  0.2   0.8   1.0  0.6  0.2  0.2  0.2  1.0  \n",
       "96   0.0  ...   0.0  0.000  0.0   0.0   0.0  0.0  0.0  0.0  0.0  0.0  \n",
       "\n",
       "[297 rows x 22 columns]"
      ]
     },
     "execution_count": 2,
     "metadata": {},
     "output_type": "execute_result"
    }
   ],
   "source": [
    "data = data_df.copy()\n",
    "\n",
    "for column in data.columns[2:]:\n",
    "    data[column] = [float(point) for point in data[column]]\n",
    "\n",
    "data"
   ]
  },
  {
   "cell_type": "markdown",
   "metadata": {},
   "source": [
    "Get Player Positions"
   ]
  },
  {
   "cell_type": "code",
   "execution_count": 3,
   "metadata": {},
   "outputs": [],
   "source": [
    "def get_positions():\n",
    "    url = \"https://basketball.realgm.com/nba/players\"\n",
    "    html = requests.get(url).content\n",
    "    time.sleep(random.uniform(1,3))\n",
    "    soup = BeautifulSoup(html, 'html.parser')\n",
    "\n",
    "    table_class = soup.find_all(\"table\", {\"data-tablesaw-mode\": \"swipe\"})[0].find(\"tbody\")\n",
    "    rows = table_class.find_all(\"tr\")\n",
    "\n",
    "    player_positions = { rows[i].find(\"td\", {\"data-th\": \"Player\"}).text: rows[i].find(\"td\", {\"data-th\": \"Pos\"}).text\n",
    "                         for i in range(len(rows)) }\n",
    "    \n",
    "    positions = []\n",
    "    for player in data['Player']:\n",
    "        try:\n",
    "            position = player_positions[player]\n",
    "        except Exception:\n",
    "            position = None\n",
    "        finally:\n",
    "            positions.append(position)\n",
    "\n",
    "    data['Position'] = positions\n",
    "\n",
    "get_positions()"
   ]
  },
  {
   "cell_type": "code",
   "execution_count": 4,
   "metadata": {},
   "outputs": [
    {
     "data": {
      "text/html": [
       "<div>\n",
       "<style scoped>\n",
       "    .dataframe tbody tr th:only-of-type {\n",
       "        vertical-align: middle;\n",
       "    }\n",
       "\n",
       "    .dataframe tbody tr th {\n",
       "        vertical-align: top;\n",
       "    }\n",
       "\n",
       "    .dataframe thead th {\n",
       "        text-align: right;\n",
       "    }\n",
       "</style>\n",
       "<table border=\"1\" class=\"dataframe\">\n",
       "  <thead>\n",
       "    <tr style=\"text-align: right;\">\n",
       "      <th></th>\n",
       "      <th>Player</th>\n",
       "      <th>Team</th>\n",
       "      <th>GP</th>\n",
       "      <th>MPG</th>\n",
       "      <th>PPG</th>\n",
       "      <th>FGM</th>\n",
       "      <th>FGA</th>\n",
       "      <th>FG%</th>\n",
       "      <th>3PM</th>\n",
       "      <th>3PA</th>\n",
       "      <th>...</th>\n",
       "      <th>FT%</th>\n",
       "      <th>ORB</th>\n",
       "      <th>DRB</th>\n",
       "      <th>RPG</th>\n",
       "      <th>APG</th>\n",
       "      <th>SPG</th>\n",
       "      <th>BPG</th>\n",
       "      <th>TOV</th>\n",
       "      <th>PF</th>\n",
       "      <th>Position</th>\n",
       "    </tr>\n",
       "  </thead>\n",
       "  <tbody>\n",
       "    <tr>\n",
       "      <th>0</th>\n",
       "      <td>Luka Doncic</td>\n",
       "      <td>DAL</td>\n",
       "      <td>11.0</td>\n",
       "      <td>36.9</td>\n",
       "      <td>33.6</td>\n",
       "      <td>11.5</td>\n",
       "      <td>23.6</td>\n",
       "      <td>0.488</td>\n",
       "      <td>2.5</td>\n",
       "      <td>8.5</td>\n",
       "      <td>...</td>\n",
       "      <td>0.736</td>\n",
       "      <td>0.8</td>\n",
       "      <td>7.5</td>\n",
       "      <td>8.3</td>\n",
       "      <td>7.9</td>\n",
       "      <td>2.0</td>\n",
       "      <td>0.6</td>\n",
       "      <td>3.4</td>\n",
       "      <td>3.3</td>\n",
       "      <td>F</td>\n",
       "    </tr>\n",
       "    <tr>\n",
       "      <th>1</th>\n",
       "      <td>Stephen Curry</td>\n",
       "      <td>GSW</td>\n",
       "      <td>10.0</td>\n",
       "      <td>35.1</td>\n",
       "      <td>32.6</td>\n",
       "      <td>10.8</td>\n",
       "      <td>21.1</td>\n",
       "      <td>0.512</td>\n",
       "      <td>5.3</td>\n",
       "      <td>12.3</td>\n",
       "      <td>...</td>\n",
       "      <td>0.934</td>\n",
       "      <td>0.8</td>\n",
       "      <td>6.3</td>\n",
       "      <td>7.1</td>\n",
       "      <td>6.9</td>\n",
       "      <td>1.1</td>\n",
       "      <td>0.1</td>\n",
       "      <td>2.6</td>\n",
       "      <td>2.1</td>\n",
       "      <td>G</td>\n",
       "    </tr>\n",
       "    <tr>\n",
       "      <th>2</th>\n",
       "      <td>Donovan Mitchell</td>\n",
       "      <td>CLE</td>\n",
       "      <td>10.0</td>\n",
       "      <td>39.2</td>\n",
       "      <td>31.9</td>\n",
       "      <td>11.3</td>\n",
       "      <td>22.0</td>\n",
       "      <td>0.514</td>\n",
       "      <td>4.3</td>\n",
       "      <td>9.6</td>\n",
       "      <td>...</td>\n",
       "      <td>0.862</td>\n",
       "      <td>1.1</td>\n",
       "      <td>3.1</td>\n",
       "      <td>4.2</td>\n",
       "      <td>5.8</td>\n",
       "      <td>1.3</td>\n",
       "      <td>0.6</td>\n",
       "      <td>3.4</td>\n",
       "      <td>3.2</td>\n",
       "      <td>G</td>\n",
       "    </tr>\n",
       "    <tr>\n",
       "      <th>3</th>\n",
       "      <td>Giannis Antetokounmpo</td>\n",
       "      <td>MIL</td>\n",
       "      <td>9.0</td>\n",
       "      <td>32.7</td>\n",
       "      <td>31.8</td>\n",
       "      <td>11.4</td>\n",
       "      <td>21.1</td>\n",
       "      <td>0.542</td>\n",
       "      <td>0.9</td>\n",
       "      <td>3.3</td>\n",
       "      <td>...</td>\n",
       "      <td>0.649</td>\n",
       "      <td>1.9</td>\n",
       "      <td>10.3</td>\n",
       "      <td>12.2</td>\n",
       "      <td>5.3</td>\n",
       "      <td>1.1</td>\n",
       "      <td>1.4</td>\n",
       "      <td>3.3</td>\n",
       "      <td>2.9</td>\n",
       "      <td>F</td>\n",
       "    </tr>\n",
       "    <tr>\n",
       "      <th>4</th>\n",
       "      <td>Shai Gilgeous-Alexander</td>\n",
       "      <td>OKC</td>\n",
       "      <td>10.0</td>\n",
       "      <td>36.7</td>\n",
       "      <td>31.6</td>\n",
       "      <td>11.7</td>\n",
       "      <td>21.8</td>\n",
       "      <td>0.537</td>\n",
       "      <td>0.9</td>\n",
       "      <td>2.8</td>\n",
       "      <td>...</td>\n",
       "      <td>0.948</td>\n",
       "      <td>1.0</td>\n",
       "      <td>3.5</td>\n",
       "      <td>4.5</td>\n",
       "      <td>5.6</td>\n",
       "      <td>1.9</td>\n",
       "      <td>1.5</td>\n",
       "      <td>3.1</td>\n",
       "      <td>2.6</td>\n",
       "      <td>G</td>\n",
       "    </tr>\n",
       "    <tr>\n",
       "      <th>...</th>\n",
       "      <td>...</td>\n",
       "      <td>...</td>\n",
       "      <td>...</td>\n",
       "      <td>...</td>\n",
       "      <td>...</td>\n",
       "      <td>...</td>\n",
       "      <td>...</td>\n",
       "      <td>...</td>\n",
       "      <td>...</td>\n",
       "      <td>...</td>\n",
       "      <td>...</td>\n",
       "      <td>...</td>\n",
       "      <td>...</td>\n",
       "      <td>...</td>\n",
       "      <td>...</td>\n",
       "      <td>...</td>\n",
       "      <td>...</td>\n",
       "      <td>...</td>\n",
       "      <td>...</td>\n",
       "      <td>...</td>\n",
       "      <td>...</td>\n",
       "    </tr>\n",
       "    <tr>\n",
       "      <th>92</th>\n",
       "      <td>Josh Okogie</td>\n",
       "      <td>PHX</td>\n",
       "      <td>10.0</td>\n",
       "      <td>4.9</td>\n",
       "      <td>1.2</td>\n",
       "      <td>0.4</td>\n",
       "      <td>1.2</td>\n",
       "      <td>0.333</td>\n",
       "      <td>0.0</td>\n",
       "      <td>0.6</td>\n",
       "      <td>...</td>\n",
       "      <td>0.667</td>\n",
       "      <td>0.3</td>\n",
       "      <td>0.9</td>\n",
       "      <td>1.2</td>\n",
       "      <td>0.0</td>\n",
       "      <td>0.3</td>\n",
       "      <td>0.1</td>\n",
       "      <td>0.4</td>\n",
       "      <td>0.6</td>\n",
       "      <td>G</td>\n",
       "    </tr>\n",
       "    <tr>\n",
       "      <th>93</th>\n",
       "      <td>Paul Reed, Jr.</td>\n",
       "      <td>PHI</td>\n",
       "      <td>9.0</td>\n",
       "      <td>7.4</td>\n",
       "      <td>0.7</td>\n",
       "      <td>0.3</td>\n",
       "      <td>1.2</td>\n",
       "      <td>0.273</td>\n",
       "      <td>0.0</td>\n",
       "      <td>0.2</td>\n",
       "      <td>...</td>\n",
       "      <td>0.000</td>\n",
       "      <td>0.4</td>\n",
       "      <td>1.3</td>\n",
       "      <td>1.8</td>\n",
       "      <td>0.1</td>\n",
       "      <td>1.2</td>\n",
       "      <td>0.4</td>\n",
       "      <td>0.3</td>\n",
       "      <td>1.7</td>\n",
       "      <td>F</td>\n",
       "    </tr>\n",
       "    <tr>\n",
       "      <th>94</th>\n",
       "      <td>KZ Okpala</td>\n",
       "      <td>SAC</td>\n",
       "      <td>6.0</td>\n",
       "      <td>6.4</td>\n",
       "      <td>0.5</td>\n",
       "      <td>0.2</td>\n",
       "      <td>0.8</td>\n",
       "      <td>0.200</td>\n",
       "      <td>0.2</td>\n",
       "      <td>0.7</td>\n",
       "      <td>...</td>\n",
       "      <td>0.000</td>\n",
       "      <td>0.3</td>\n",
       "      <td>0.7</td>\n",
       "      <td>1.0</td>\n",
       "      <td>0.3</td>\n",
       "      <td>0.0</td>\n",
       "      <td>0.0</td>\n",
       "      <td>0.0</td>\n",
       "      <td>0.7</td>\n",
       "      <td>G</td>\n",
       "    </tr>\n",
       "    <tr>\n",
       "      <th>95</th>\n",
       "      <td>Jaxson Hayes</td>\n",
       "      <td>NOP</td>\n",
       "      <td>5.0</td>\n",
       "      <td>7.4</td>\n",
       "      <td>0.4</td>\n",
       "      <td>0.2</td>\n",
       "      <td>1.0</td>\n",
       "      <td>0.200</td>\n",
       "      <td>0.0</td>\n",
       "      <td>0.4</td>\n",
       "      <td>...</td>\n",
       "      <td>0.000</td>\n",
       "      <td>0.2</td>\n",
       "      <td>0.8</td>\n",
       "      <td>1.0</td>\n",
       "      <td>0.6</td>\n",
       "      <td>0.2</td>\n",
       "      <td>0.2</td>\n",
       "      <td>0.2</td>\n",
       "      <td>1.0</td>\n",
       "      <td>F</td>\n",
       "    </tr>\n",
       "    <tr>\n",
       "      <th>96</th>\n",
       "      <td>Cody Martin</td>\n",
       "      <td>CHA</td>\n",
       "      <td>1.0</td>\n",
       "      <td>0.9</td>\n",
       "      <td>0.0</td>\n",
       "      <td>0.0</td>\n",
       "      <td>0.0</td>\n",
       "      <td>0.000</td>\n",
       "      <td>0.0</td>\n",
       "      <td>0.0</td>\n",
       "      <td>...</td>\n",
       "      <td>0.000</td>\n",
       "      <td>0.0</td>\n",
       "      <td>0.0</td>\n",
       "      <td>0.0</td>\n",
       "      <td>0.0</td>\n",
       "      <td>0.0</td>\n",
       "      <td>0.0</td>\n",
       "      <td>0.0</td>\n",
       "      <td>0.0</td>\n",
       "      <td>F</td>\n",
       "    </tr>\n",
       "  </tbody>\n",
       "</table>\n",
       "<p>297 rows × 23 columns</p>\n",
       "</div>"
      ],
      "text/plain": [
       "                     Player Team    GP   MPG   PPG   FGM   FGA    FG%  3PM  \\\n",
       "0               Luka Doncic  DAL  11.0  36.9  33.6  11.5  23.6  0.488  2.5   \n",
       "1             Stephen Curry  GSW  10.0  35.1  32.6  10.8  21.1  0.512  5.3   \n",
       "2          Donovan Mitchell  CLE  10.0  39.2  31.9  11.3  22.0  0.514  4.3   \n",
       "3     Giannis Antetokounmpo  MIL   9.0  32.7  31.8  11.4  21.1  0.542  0.9   \n",
       "4   Shai Gilgeous-Alexander  OKC  10.0  36.7  31.6  11.7  21.8  0.537  0.9   \n",
       "..                      ...  ...   ...   ...   ...   ...   ...    ...  ...   \n",
       "92              Josh Okogie  PHX  10.0   4.9   1.2   0.4   1.2  0.333  0.0   \n",
       "93           Paul Reed, Jr.  PHI   9.0   7.4   0.7   0.3   1.2  0.273  0.0   \n",
       "94                KZ Okpala  SAC   6.0   6.4   0.5   0.2   0.8  0.200  0.2   \n",
       "95             Jaxson Hayes  NOP   5.0   7.4   0.4   0.2   1.0  0.200  0.0   \n",
       "96              Cody Martin  CHA   1.0   0.9   0.0   0.0   0.0  0.000  0.0   \n",
       "\n",
       "     3PA  ...    FT%  ORB   DRB   RPG  APG  SPG  BPG  TOV   PF  Position  \n",
       "0    8.5  ...  0.736  0.8   7.5   8.3  7.9  2.0  0.6  3.4  3.3         F  \n",
       "1   12.3  ...  0.934  0.8   6.3   7.1  6.9  1.1  0.1  2.6  2.1         G  \n",
       "2    9.6  ...  0.862  1.1   3.1   4.2  5.8  1.3  0.6  3.4  3.2         G  \n",
       "3    3.3  ...  0.649  1.9  10.3  12.2  5.3  1.1  1.4  3.3  2.9         F  \n",
       "4    2.8  ...  0.948  1.0   3.5   4.5  5.6  1.9  1.5  3.1  2.6         G  \n",
       "..   ...  ...    ...  ...   ...   ...  ...  ...  ...  ...  ...       ...  \n",
       "92   0.6  ...  0.667  0.3   0.9   1.2  0.0  0.3  0.1  0.4  0.6         G  \n",
       "93   0.2  ...  0.000  0.4   1.3   1.8  0.1  1.2  0.4  0.3  1.7         F  \n",
       "94   0.7  ...  0.000  0.3   0.7   1.0  0.3  0.0  0.0  0.0  0.7         G  \n",
       "95   0.4  ...  0.000  0.2   0.8   1.0  0.6  0.2  0.2  0.2  1.0         F  \n",
       "96   0.0  ...  0.000  0.0   0.0   0.0  0.0  0.0  0.0  0.0  0.0         F  \n",
       "\n",
       "[297 rows x 23 columns]"
      ]
     },
     "execution_count": 4,
     "metadata": {},
     "output_type": "execute_result"
    }
   ],
   "source": [
    "df = data.copy()\n",
    "\n",
    "df.loc[df['Position'].isin(['SF','PF']), 'Position'] = 'F'\n",
    "df.loc[df['Position'].isin(['SG','PG']), 'Position'] = 'G'\n",
    "\n",
    "df"
   ]
  },
  {
   "cell_type": "markdown",
   "metadata": {},
   "source": [
    "Graphing all combonations of features to check for correlation or covariability"
   ]
  },
  {
   "cell_type": "code",
   "execution_count": 64,
   "metadata": {},
   "outputs": [
    {
     "data": {
      "image/png": "[encoded data removed]",
      "text/plain": [
       "<Figure size 2000x15200 with 11 Axes>"
      ]
     },
     "metadata": {},
     "output_type": "display_data"
    }
   ],
   "source": [
    "import matplotlib.pyplot as plt\n",
    "\n",
    "all_features = df.columns[2:-1]\n",
    "\n",
    "\n",
    "combos = []\n",
    "for x in range(len(all_features)):\n",
    "    for y in range(x+1,len(all_features)):\n",
    "        combos.append((all_features[x],all_features[y]))\n",
    "\n",
    "\n",
    "fig = plt.figure(figsize=(20,152))\n",
    "\n",
    "fig_rows = 38\n",
    "fig_cols = 5\n",
    "\n",
    "cur_subplot = 1\n",
    "\n",
    "for i in range(1,fig_rows*fig_cols+1):\n",
    "    try:\n",
    "        correlation_coefficient = np.round(np.corrcoef(df[combos[i][0]],df[combos[i][1]])[0][1], decimals=4)   \n",
    "    except Exception:\n",
    "        break\n",
    "    else:\n",
    "        if correlation_coefficient > -0.1:\n",
    "            continue\n",
    "\n",
    "        ax = fig.add_subplot(fig_rows,fig_cols,cur_subplot)\n",
    "        cur_subplot += 1\n",
    "        ax.scatter(df[combos[i][0]],df[combos[i][1]])\n",
    "        ax.set_xticklabels([])\n",
    "        ax.set_yticklabels([])\n",
    "        ax.xaxis.set_ticks_position('none') \n",
    "        ax.yaxis.set_ticks_position('none')\n",
    "        plt.xlabel(combos[i][0])\n",
    "        plt.ylabel(combos[i][1])\n",
    "        correlation_coefficient = np.round(np.corrcoef(df[combos[i][0]],df[combos[i][1]])[0][1], decimals=4)\n",
    "        ax.set_title(f\"{combos[i][0]} / {combos[i][1]} | {correlation_coefficient}\")\n",
    "\n",
    "plt.show()"
   ]
  },
  {
   "cell_type": "code",
   "execution_count": 6,
   "metadata": {},
   "outputs": [],
   "source": [
    "# cluster on 2d and original dimesions\n",
    "# https://dash.plotly.com/layout"
   ]
  },
  {
   "cell_type": "code",
   "execution_count": 66,
   "metadata": {},
   "outputs": [
    {
     "data": {
      "application/vnd.plotly.v1+json": {
       "config": {
        "plotlyServerURL": "https://plot.ly"
       },
       "data": [
        {
         "hovertemplate": "<b>%{hovertext}</b><br><br>ORB=%{x}<br>3P%=%{y}<extra></extra>",
         "hovertext": [
          "Luka Doncic",
          "Stephen Curry",
          "Donovan Mitchell",
          "Giannis Antetokounmpo",
          "Shai Gilgeous-Alexander",
          "Jayson Tatum",
          "Kevin Durant",
          "Ja Morant",
          "Joel Embiid",
          "Devin Booker",
          "Trae Young",
          "Kyrie Irving",
          "Paul George",
          "Jaylen Brown",
          "De'Aaron Fox",
          "LeBron James",
          "Pascal Siakam",
          "Desmond Bane",
          "DeMar DeRozan",
          "Paolo Banchero",
          "Zion Williamson",
          "Keldon Johnson",
          "Anthony Davis",
          "Tyrese Maxey",
          "Lauri Markkanen",
          "Jimmy Butler",
          "Anfernee Simons",
          "James Harden",
          "Tyrese Haliburton",
          "Dejounte Murray",
          "Bradley Beal",
          "Karl-Anthony Towns",
          "Anthony Edwards",
          "Nikola Jokic",
          "Jalen Green",
          "Julius Randle",
          "Bennedict Mathurin",
          "Cade Cunningham",
          "Jrue Holiday",
          "Tyler Herro",
          "R.J. Barrett",
          "Bojan Bogdanovic",
          "Kristaps Porzingis",
          "Jalen Brunson",
          "Jerami Grant",
          "Kevin Porter, Jr.",
          "Fred VanVleet",
          "Kyle Kuzma",
          "Jordan Clarkson",
          "C.J. McCollum",
          "Buddy Hield",
          "Franz Wagner",
          "Kelly Oubre, Jr.",
          "Spencer Dinwiddie",
          "Andrew Wiggins",
          "Gary Trent, Jr.",
          "Michael Porter, Jr.",
          "Bam Adebayo",
          "Gordon Hayward",
          "Alperen Sengun",
          "Saddiq Bey",
          "OG Anunoby",
          "Domantas Sabonis",
          "Kevin Huerter",
          "Nikola Vucevic",
          "Mikal Bridges",
          "Russell Westbrook",
          "Jamal Murray",
          "Wendell Carter, Jr.",
          "Christian Wood",
          "Brook Lopez",
          "P.J. Washington",
          "Jaden Ivey",
          "Lonnie Walker",
          "Evan Mobley",
          "Jordan Poole",
          "Klay Thompson",
          "De'Andre Hunter",
          "Marcus Morris",
          "Tobias Harris",
          "Deandre Ayton",
          "Dillon Brooks",
          "Aaron Gordon",
          "Jonas Valanciunas",
          "Scottie Barnes",
          "Max Strus",
          "Jarrett Allen",
          "Caris LeVert",
          "D'Angelo Russell",
          "Bones Hyland",
          "Rudy Gobert",
          "Malcolm Brogdon",
          "Collin Sexton",
          "Josh Giddey",
          "Bobby Portis",
          "Kyle Lowry",
          "Jusuf Nurkic",
          "Cameron Johnson",
          "Keegan Murray",
          "John Collins",
          "Eric Gordon",
          "Luguentz Dort",
          "Tre Jones",
          "Isaiah Stewart II",
          "John Wall",
          "Jakob Poeltl",
          "Kelly Olynyk",
          "Kevin Love",
          "Malik Monk",
          "Nicolas Claxton",
          "Mike Conley",
          "Ayo Dosunmu",
          "Rui Hachimura",
          "Trey Murphy III",
          "Jaylen Nowell",
          "Kentavious Caldwell-Pope",
          "Tre Mann",
          "Josh Richardson",
          "Norman Powell",
          "Malik Beasley",
          "K.J. Martin",
          "Bol Bol",
          "Tim Hardaway Jr.",
          "Jaden McDaniels",
          "Cameron Payne",
          "Harrison Barnes",
          "Tyus Jones",
          "Grayson Allen",
          "Jalen Smith",
          "Clint Capela",
          "Royce O'Neale",
          "Marcus Smart",
          "Jabari Smith, Jr.",
          "Reggie Jackson",
          "Troy Brown, Jr.",
          "Obi Toppin",
          "Ivica Zubac",
          "Dennis Smith",
          "Al Horford",
          "Goran Dragic",
          "Doug McDermott",
          "Jalen McDaniels",
          "Terrence Ross",
          "Nick Richards",
          "Brandon Clarke",
          "Chris Boucher",
          "Chris Paul",
          "Josh Hart",
          "Shaedon Sharpe",
          "Bruce Brown, Jr.",
          "Cedi Osman",
          "Will Barton",
          "Santi Aldama",
          "Draymond Green",
          "Mason Plumlee",
          "De'Anthony Melton",
          "Georges Niang",
          "Monte Morris",
          "Gabe Vincent",
          "Chris Duarte",
          "Patrick Williams",
          "Precious Achiuwa",
          "Jarred Vanderbilt",
          "Tari Eason",
          "Aleksej Pokusevski",
          "Dorian Finney-Smith",
          "Isaiah Jackson",
          "Naz Reid",
          "Onyeka Okongwu",
          "Zach Collins",
          "Luke Kennard",
          "Grant Williams",
          "Larry Nance, Jr.",
          "Caleb Martin",
          "Coby White",
          "Jevon Carter",
          "Jeff Green",
          "Justise Winslow",
          "Derrick White",
          "Jock Landale",
          "Sam Hauser",
          "Evan Fournier",
          "Taurean Prince",
          "Joe Harris",
          "Jalen Duren",
          "Jeremiah Robinson-Earl",
          "Talen Horton-Tucker",
          "Trey Lyles",
          "Isaiah Hartenstein",
          "Immanuel Quickley",
          "John Konchar",
          "Jose Alvarado",
          "James Wiseman",
          "Davion Mitchell",
          "Dean Wade",
          "Keita Bates-Diop",
          "Naji Marshall",
          "Mike Muscala",
          "Cam Reddish",
          "Edmond Sumner",
          "Landry Shamet",
          "Joshua Primo",
          "Austin Reaves",
          "Jeremy Sochan",
          "Dwight Powell",
          "Nassir Little",
          "Terance Mann",
          "Justin Holiday",
          "Steven Adams",
          "Duncan Robinson",
          "Mitchell Robinson",
          "Andrew Nembhard",
          "Delon Wright",
          "Javonte Green",
          "Jake LaRavia",
          "R.J. Hampton",
          "Kevon Looney",
          "Josh Green",
          "Damion Lee",
          "Daniel Gafford",
          "Moses Moody",
          "Walker Kessler",
          "James Bouknight",
          "Darius Bazley",
          "Kenrich Williams",
          "DeAndre Jordan",
          "Mohamed Bamba",
          "Derrick Rose",
          "Ty Jerome",
          "Derrick Jones",
          "Terence Davis",
          "MarJon Beauchamp",
          "Drew Eubanks",
          "Dewayne Dedmon",
          "Patty Mills",
          "Jordan Nwora",
          "Yuta Watanabe",
          "Isaiah Livers",
          "George Hill",
          "P.J. Tucker",
          "Torrey Craig",
          "Chuma Okeke",
          "David Roddy",
          "Kendrick Nunn",
          "Deni Avdija",
          "Aaron Holiday",
          "Hamidou Diallo",
          "Aaron Wiggins",
          "Devonte' Graham",
          "Maxi Kleber",
          "Reggie Bullock",
          "Patrick Beverley",
          "Matt Ryan",
          "Jonathan Kuminga",
          "Alex Caruso",
          "JaMychal Green",
          "Goga Bitadze",
          "Montrezl Harrell",
          "Rudy Gay",
          "Jalen Johnson",
          "JaVale McGee",
          "Anthony Gill",
          "Garrison Mathews",
          "Danuel House",
          "Dalano Banton",
          "T.J. McConnell",
          "Christian Koloko",
          "Killian Hayes",
          "Richaun Holmes",
          "Daishen Nix",
          "Wenyen Gabriel",
          "Kevon Harris",
          "Nicolas Batum",
          "Wesley Matthews",
          "Theo Maledon",
          "Usman Garuba",
          "Christian Braun",
          "Jordan McLaughlin",
          "Serge Ibaka",
          "Cory Joseph",
          "Isaiah Joe",
          "Ousmane Dieng",
          "Bismack Biyombo",
          "Damian Jones",
          "J.T. Thor",
          "Amir Coffey",
          "Juan Toscano-Anderson",
          "Noah Vonleh",
          "Thaddeus Young",
          "Zeke Nnaji",
          "Isaac Okoro",
          "Matisse Thybulle",
          "Josh Okogie",
          "Paul Reed, Jr.",
          "KZ Okpala",
          "Jaxson Hayes",
          "Cody Martin"
         ],
         "legendgroup": "",
         "marker": {
          "color": "#636efa",
          "symbol": "circle"
         },
         "mode": "markers",
         "name": "",
         "orientation": "v",
         "showlegend": false,
         "type": "scatter",
         "x": [
          0.8,
          0.8,
          1.1,
          1.9,
          1,
          0.7,
          0.5,
          0.9,
          1.9,
          0.7,
          0.9,
          0.8,
          0.5,
          1.1,
          0.7,
          1.8,
          1.8,
          0.5,
          0.4,
          0.8,
          2.2,
          0.7,
          2.7,
          0.5,
          2.2,
          2,
          0.4,
          0.6,
          1.1,
          0.8,
          0.7,
          1.8,
          0.5,
          1.5,
          0.7,
          2.4,
          1.1,
          1,
          1.3,
          0.6,
          1,
          0.5,
          2.3,
          0.5,
          0.8,
          1.6,
          0.7,
          0.8,
          1.5,
          1,
          1.2,
          1.1,
          0.9,
          0.3,
          1.7,
          0.8,
          1.6,
          2.3,
          0.5,
          4.1,
          1.1,
          1.3,
          2.3,
          0,
          2.8,
          1.3,
          1,
          0.7,
          2.2,
          1.4,
          2.3,
          1.2,
          1.4,
          0.6,
          1.6,
          0.3,
          0.2,
          0.8,
          0.4,
          1.1,
          2.3,
          0.4,
          2.4,
          3.4,
          1.9,
          0.8,
          3.7,
          1.1,
          0.9,
          0.1,
          4.5,
          0.9,
          0.9,
          1.5,
          2.5,
          0.6,
          3.1,
          0.6,
          0.9,
          1.5,
          0.2,
          1.2,
          0.8,
          3.1,
          0.4,
          3.8,
          1.3,
          0.8,
          0.4,
          3.1,
          0.4,
          0.4,
          0.9,
          1.4,
          0.7,
          0.4,
          0.8,
          0.3,
          0.3,
          0.8,
          1.2,
          1.4,
          0.1,
          1.4,
          0.3,
          1.1,
          0.3,
          0.7,
          1.9,
          4.1,
          1.3,
          0.2,
          1.1,
          0.3,
          1,
          0.9,
          2.6,
          0.7,
          1,
          0.6,
          0.3,
          1.2,
          0.4,
          2.9,
          0.8,
          1.9,
          0.5,
          1.5,
          0.9,
          0.9,
          0.3,
          0.4,
          1.9,
          0.7,
          3,
          1.1,
          0.2,
          0.4,
          0.3,
          0.4,
          1.2,
          2,
          2.1,
          2.3,
          1.9,
          1.3,
          1.6,
          0.7,
          1.9,
          1.3,
          0.4,
          0.7,
          1.5,
          1.9,
          0.1,
          0.5,
          0.9,
          1.7,
          0.6,
          1.7,
          0.4,
          0.1,
          0.4,
          1,
          3.2,
          0.9,
          0.7,
          0.4,
          3.5,
          0.6,
          1.5,
          0.4,
          1,
          0,
          0.5,
          1,
          1,
          0.7,
          0.3,
          0.3,
          0.2,
          0.5,
          0.6,
          1.1,
          1.6,
          0.3,
          0.7,
          0.1,
          5.2,
          0.3,
          3.5,
          0.4,
          1,
          1.2,
          0.8,
          0.6,
          2.2,
          0.9,
          0.5,
          1.4,
          0.5,
          2.1,
          0.3,
          1.6,
          2.2,
          1.6,
          0.6,
          0.4,
          0.1,
          1.2,
          0.4,
          0.9,
          1.3,
          0.6,
          0.2,
          0.7,
          0.5,
          0.5,
          0.3,
          1.4,
          1.4,
          1.3,
          0.8,
          0.1,
          0.7,
          0.5,
          1.2,
          0.8,
          0.1,
          0.9,
          0.5,
          0.9,
          0.2,
          0.5,
          0.6,
          2,
          1.6,
          0.6,
          0.6,
          0.5,
          1.1,
          0.8,
          0.1,
          0.4,
          0.4,
          0.6,
          1.3,
          0.4,
          1,
          0.3,
          0.7,
          0.9,
          0.8,
          1.2,
          0.1,
          2.4,
          0.7,
          0.2,
          0.6,
          0.2,
          0,
          0.3,
          0.8,
          1.1,
          0.7,
          0.2,
          0,
          1.4,
          1,
          0.5,
          0.1,
          0.3,
          0.3,
          0.4,
          0.3,
          0.2,
          0
         ],
         "xaxis": "x",
         "y": [
          0.29,
          0.431,
          0.448,
          0.267,
          0.321,
          0.379,
          0.322,
          0.451,
          0.259,
          0.4,
          0.306,
          0.28,
          0.363,
          0.338,
          0.362,
          0.239,
          0.342,
          0.463,
          0.211,
          0.256,
          0.5,
          0.412,
          0.267,
          0.412,
          0.341,
          0.36,
          0.356,
          0.333,
          0.453,
          0.329,
          0.325,
          0.362,
          0.333,
          0.25,
          0.362,
          0.355,
          0.437,
          0.279,
          0.358,
          0.375,
          0.306,
          0.457,
          0.333,
          0.295,
          0.444,
          0.344,
          0.421,
          0.351,
          0.412,
          0.291,
          0.404,
          0.245,
          0.346,
          0.429,
          0.403,
          0.352,
          0.486,
          0,
          0.357,
          0.25,
          0.319,
          0.4,
          0.083,
          0.507,
          0.397,
          0.464,
          0.325,
          0.364,
          0.324,
          0.462,
          0.357,
          0.343,
          0.32,
          0.298,
          0.182,
          0.301,
          0.326,
          0.375,
          0.379,
          0.418,
          0.5,
          0.426,
          0.281,
          0.333,
          0.364,
          0.359,
          0,
          0.431,
          0.315,
          0.5,
          0,
          0.368,
          0.381,
          0.286,
          0.357,
          0.355,
          0.545,
          0.431,
          0.379,
          0.273,
          0.37,
          0.206,
          0.4,
          0.273,
          0.212,
          0,
          0.568,
          0.418,
          0.383,
          0,
          0.413,
          0.383,
          0.292,
          0.424,
          0.327,
          0.543,
          0.333,
          0.426,
          0.289,
          0.42,
          0.364,
          0.438,
          0.338,
          0.333,
          0.389,
          0.206,
          0.36,
          0.426,
          0.31,
          0,
          0.423,
          0.267,
          0.294,
          0.277,
          0.333,
          0.4,
          0,
          0.357,
          0.421,
          0.467,
          0.4,
          0.404,
          0.408,
          0,
          0,
          0.407,
          0.273,
          0.333,
          0.44,
          0.4,
          0.395,
          0.362,
          0.289,
          0.3,
          0,
          0.34,
          0.459,
          0.344,
          0.302,
          0.342,
          0.351,
          0.179,
          0.5,
          0.455,
          0.333,
          0.327,
          0,
          0.3,
          0,
          0.389,
          0.475,
          0.517,
          0.4,
          0.333,
          0.294,
          0.378,
          0.294,
          0.25,
          0.429,
          0.136,
          0.533,
          0.373,
          0.425,
          0.327,
          0,
          0.4,
          0.25,
          0.424,
          0.167,
          0.256,
          0.419,
          0.4,
          0,
          0.344,
          0.5,
          0.308,
          0.346,
          0.297,
          0.355,
          0.316,
          0.364,
          0.25,
          0.333,
          0.214,
          0,
          0.464,
          0.294,
          0.345,
          0,
          0.339,
          0,
          0.375,
          0.25,
          0.381,
          0.52,
          0.5,
          0,
          0.556,
          0.441,
          0,
          0.353,
          0,
          0.224,
          0.389,
          0.3,
          1,
          0.292,
          0.355,
          0.375,
          0.3,
          0.31,
          0.333,
          0,
          0.364,
          0.41,
          0.303,
          0.545,
          0.395,
          0.286,
          0.458,
          0.414,
          0.353,
          0.25,
          0.25,
          0.222,
          0.538,
          0,
          0.333,
          0.4,
          0.29,
          0.319,
          0.259,
          0.414,
          0.111,
          0.313,
          0.235,
          0.143,
          0,
          0.207,
          0.188,
          0,
          0.222,
          0.35,
          0.353,
          0.294,
          0,
          0,
          0.2,
          0,
          0.455,
          0,
          0.364,
          0.333,
          0.367,
          0.333,
          0.75,
          0.357,
          0.111,
          0.429,
          0.4,
          0.5,
          0.227,
          0,
          0,
          0.211,
          0.25,
          0.1,
          1,
          0.167,
          0,
          0,
          0.182,
          0,
          0,
          0.25,
          0,
          0
         ],
         "yaxis": "y"
        }
       ],
       "layout": {
        "legend": {
         "tracegroupgap": 0
        },
        "margin": {
         "t": 60
        },
        "template": {
         "data": {
          "bar": [
           {
            "error_x": {
             "color": "#2a3f5f"
            },
            "error_y": {
             "color": "#2a3f5f"
            },
            "marker": {
             "line": {
              "color": "#E5ECF6",
              "width": 0.5
             },
             "pattern": {
              "fillmode": "overlay",
              "size": 10,
              "solidity": 0.2
             }
            },
            "type": "bar"
           }
          ],
          "barpolar": [
           {
            "marker": {
             "line": {
              "color": "#E5ECF6",
              "width": 0.5
             },
             "pattern": {
              "fillmode": "overlay",
              "size": 10,
              "solidity": 0.2
             }
            },
            "type": "barpolar"
           }
          ],
          "carpet": [
           {
            "aaxis": {
             "endlinecolor": "#2a3f5f",
             "gridcolor": "white",
             "linecolor": "white",
             "minorgridcolor": "white",
             "startlinecolor": "#2a3f5f"
            },
            "baxis": {
             "endlinecolor": "#2a3f5f",
             "gridcolor": "white",
             "linecolor": "white",
             "minorgridcolor": "white",
             "startlinecolor": "#2a3f5f"
            },
            "type": "carpet"
           }
          ],
          "choropleth": [
           {
            "colorbar": {
             "outlinewidth": 0,
             "ticks": ""
            },
            "type": "choropleth"
           }
          ],
          "contour": [
           {
            "colorbar": {
             "outlinewidth": 0,
             "ticks": ""
            },
            "colorscale": [
             [
              0,
              "#0d0887"
             ],
             [
              0.1111111111111111,
              "#46039f"
             ],
             [
              0.2222222222222222,
              "#7201a8"
             ],
             [
              0.3333333333333333,
              "#9c179e"
             ],
             [
              0.4444444444444444,
              "#bd3786"
             ],
             [
              0.5555555555555556,
              "#d8576b"
             ],
             [
              0.6666666666666666,
              "#ed7953"
             ],
             [
              0.7777777777777778,
              "#fb9f3a"
             ],
             [
              0.8888888888888888,
              "#fdca26"
             ],
             [
              1,
              "#f0f921"
             ]
            ],
            "type": "contour"
           }
          ],
          "contourcarpet": [
           {
            "colorbar": {
             "outlinewidth": 0,
             "ticks": ""
            },
            "type": "contourcarpet"
           }
          ],
          "heatmap": [
           {
            "colorbar": {
             "outlinewidth": 0,
             "ticks": ""
            },
            "colorscale": [
             [
              0,
              "#0d0887"
             ],
             [
              0.1111111111111111,
              "#46039f"
             ],
             [
              0.2222222222222222,
              "#7201a8"
             ],
             [
              0.3333333333333333,
              "#9c179e"
             ],
             [
              0.4444444444444444,
              "#bd3786"
             ],
             [
              0.5555555555555556,
              "#d8576b"
             ],
             [
              0.6666666666666666,
              "#ed7953"
             ],
             [
              0.7777777777777778,
              "#fb9f3a"
             ],
             [
              0.8888888888888888,
              "#fdca26"
             ],
             [
              1,
              "#f0f921"
             ]
            ],
            "type": "heatmap"
           }
          ],
          "heatmapgl": [
           {
            "colorbar": {
             "outlinewidth": 0,
             "ticks": ""
            },
            "colorscale": [
             [
              0,
              "#0d0887"
             ],
             [
              0.1111111111111111,
              "#46039f"
             ],
             [
              0.2222222222222222,
              "#7201a8"
             ],
             [
              0.3333333333333333,
              "#9c179e"
             ],
             [
              0.4444444444444444,
              "#bd3786"
             ],
             [
              0.5555555555555556,
              "#d8576b"
             ],
             [
              0.6666666666666666,
              "#ed7953"
             ],
             [
              0.7777777777777778,
              "#fb9f3a"
             ],
             [
              0.8888888888888888,
              "#fdca26"
             ],
             [
              1,
              "#f0f921"
             ]
            ],
            "type": "heatmapgl"
           }
          ],
          "histogram": [
           {
            "marker": {
             "pattern": {
              "fillmode": "overlay",
              "size": 10,
              "solidity": 0.2
             }
            },
            "type": "histogram"
           }
          ],
          "histogram2d": [
           {
            "colorbar": {
             "outlinewidth": 0,
             "ticks": ""
            },
            "colorscale": [
             [
              0,
              "#0d0887"
             ],
             [
              0.1111111111111111,
              "#46039f"
             ],
             [
              0.2222222222222222,
              "#7201a8"
             ],
             [
              0.3333333333333333,
              "#9c179e"
             ],
             [
              0.4444444444444444,
              "#bd3786"
             ],
             [
              0.5555555555555556,
              "#d8576b"
             ],
             [
              0.6666666666666666,
              "#ed7953"
             ],
             [
              0.7777777777777778,
              "#fb9f3a"
             ],
             [
              0.8888888888888888,
              "#fdca26"
             ],
             [
              1,
              "#f0f921"
             ]
            ],
            "type": "histogram2d"
           }
          ],
          "histogram2dcontour": [
           {
            "colorbar": {
             "outlinewidth": 0,
             "ticks": ""
            },
            "colorscale": [
             [
              0,
              "#0d0887"
             ],
             [
              0.1111111111111111,
              "#46039f"
             ],
             [
              0.2222222222222222,
              "#7201a8"
             ],
             [
              0.3333333333333333,
              "#9c179e"
             ],
             [
              0.4444444444444444,
              "#bd3786"
             ],
             [
              0.5555555555555556,
              "#d8576b"
             ],
             [
              0.6666666666666666,
              "#ed7953"
             ],
             [
              0.7777777777777778,
              "#fb9f3a"
             ],
             [
              0.8888888888888888,
              "#fdca26"
             ],
             [
              1,
              "#f0f921"
             ]
            ],
            "type": "histogram2dcontour"
           }
          ],
          "mesh3d": [
           {
            "colorbar": {
             "outlinewidth": 0,
             "ticks": ""
            },
            "type": "mesh3d"
           }
          ],
          "parcoords": [
           {
            "line": {
             "colorbar": {
              "outlinewidth": 0,
              "ticks": ""
             }
            },
            "type": "parcoords"
           }
          ],
          "pie": [
           {
            "automargin": true,
            "type": "pie"
           }
          ],
          "scatter": [
           {
            "fillpattern": {
             "fillmode": "overlay",
             "size": 10,
             "solidity": 0.2
            },
            "type": "scatter"
           }
          ],
          "scatter3d": [
           {
            "line": {
             "colorbar": {
              "outlinewidth": 0,
              "ticks": ""
             }
            },
            "marker": {
             "colorbar": {
              "outlinewidth": 0,
              "ticks": ""
             }
            },
            "type": "scatter3d"
           }
          ],
          "scattercarpet": [
           {
            "marker": {
             "colorbar": {
              "outlinewidth": 0,
              "ticks": ""
             }
            },
            "type": "scattercarpet"
           }
          ],
          "scattergeo": [
           {
            "marker": {
             "colorbar": {
              "outlinewidth": 0,
              "ticks": ""
             }
            },
            "type": "scattergeo"
           }
          ],
          "scattergl": [
           {
            "marker": {
             "colorbar": {
              "outlinewidth": 0,
              "ticks": ""
             }
            },
            "type": "scattergl"
           }
          ],
          "scattermapbox": [
           {
            "marker": {
             "colorbar": {
              "outlinewidth": 0,
              "ticks": ""
             }
            },
            "type": "scattermapbox"
           }
          ],
          "scatterpolar": [
           {
            "marker": {
             "colorbar": {
              "outlinewidth": 0,
              "ticks": ""
             }
            },
            "type": "scatterpolar"
           }
          ],
          "scatterpolargl": [
           {
            "marker": {
             "colorbar": {
              "outlinewidth": 0,
              "ticks": ""
             }
            },
            "type": "scatterpolargl"
           }
          ],
          "scatterternary": [
           {
            "marker": {
             "colorbar": {
              "outlinewidth": 0,
              "ticks": ""
             }
            },
            "type": "scatterternary"
           }
          ],
          "surface": [
           {
            "colorbar": {
             "outlinewidth": 0,
             "ticks": ""
            },
            "colorscale": [
             [
              0,
              "#0d0887"
             ],
             [
              0.1111111111111111,
              "#46039f"
             ],
             [
              0.2222222222222222,
              "#7201a8"
             ],
             [
              0.3333333333333333,
              "#9c179e"
             ],
             [
              0.4444444444444444,
              "#bd3786"
             ],
             [
              0.5555555555555556,
              "#d8576b"
             ],
             [
              0.6666666666666666,
              "#ed7953"
             ],
             [
              0.7777777777777778,
              "#fb9f3a"
             ],
             [
              0.8888888888888888,
              "#fdca26"
             ],
             [
              1,
              "#f0f921"
             ]
            ],
            "type": "surface"
           }
          ],
          "table": [
           {
            "cells": {
             "fill": {
              "color": "#EBF0F8"
             },
             "line": {
              "color": "white"
             }
            },
            "header": {
             "fill": {
              "color": "#C8D4E3"
             },
             "line": {
              "color": "white"
             }
            },
            "type": "table"
           }
          ]
         },
         "layout": {
          "annotationdefaults": {
           "arrowcolor": "#2a3f5f",
           "arrowhead": 0,
           "arrowwidth": 1
          },
          "autotypenumbers": "strict",
          "coloraxis": {
           "colorbar": {
            "outlinewidth": 0,
            "ticks": ""
           }
          },
          "colorscale": {
           "diverging": [
            [
             0,
             "#8e0152"
            ],
            [
             0.1,
             "#c51b7d"
            ],
            [
             0.2,
             "#de77ae"
            ],
            [
             0.3,
             "#f1b6da"
            ],
            [
             0.4,
             "#fde0ef"
            ],
            [
             0.5,
             "#f7f7f7"
            ],
            [
             0.6,
             "#e6f5d0"
            ],
            [
             0.7,
             "#b8e186"
            ],
            [
             0.8,
             "#7fbc41"
            ],
            [
             0.9,
             "#4d9221"
            ],
            [
             1,
             "#276419"
            ]
           ],
           "sequential": [
            [
             0,
             "#0d0887"
            ],
            [
             0.1111111111111111,
             "#46039f"
            ],
            [
             0.2222222222222222,
             "#7201a8"
            ],
            [
             0.3333333333333333,
             "#9c179e"
            ],
            [
             0.4444444444444444,
             "#bd3786"
            ],
            [
             0.5555555555555556,
             "#d8576b"
            ],
            [
             0.6666666666666666,
             "#ed7953"
            ],
            [
             0.7777777777777778,
             "#fb9f3a"
            ],
            [
             0.8888888888888888,
             "#fdca26"
            ],
            [
             1,
             "#f0f921"
            ]
           ],
           "sequentialminus": [
            [
             0,
             "#0d0887"
            ],
            [
             0.1111111111111111,
             "#46039f"
            ],
            [
             0.2222222222222222,
             "#7201a8"
            ],
            [
             0.3333333333333333,
             "#9c179e"
            ],
            [
             0.4444444444444444,
             "#bd3786"
            ],
            [
             0.5555555555555556,
             "#d8576b"
            ],
            [
             0.6666666666666666,
             "#ed7953"
            ],
            [
             0.7777777777777778,
             "#fb9f3a"
            ],
            [
             0.8888888888888888,
             "#fdca26"
            ],
            [
             1,
             "#f0f921"
            ]
           ]
          },
          "colorway": [
           "#636efa",
           "#EF553B",
           "#00cc96",
           "#ab63fa",
           "#FFA15A",
           "#19d3f3",
           "#FF6692",
           "#B6E880",
           "#FF97FF",
           "#FECB52"
          ],
          "font": {
           "color": "#2a3f5f"
          },
          "geo": {
           "bgcolor": "white",
           "lakecolor": "white",
           "landcolor": "#E5ECF6",
           "showlakes": true,
           "showland": true,
           "subunitcolor": "white"
          },
          "hoverlabel": {
           "align": "left"
          },
          "hovermode": "closest",
          "mapbox": {
           "style": "light"
          },
          "paper_bgcolor": "white",
          "plot_bgcolor": "#E5ECF6",
          "polar": {
           "angularaxis": {
            "gridcolor": "white",
            "linecolor": "white",
            "ticks": ""
           },
           "bgcolor": "#E5ECF6",
           "radialaxis": {
            "gridcolor": "white",
            "linecolor": "white",
            "ticks": ""
           }
          },
          "scene": {
           "xaxis": {
            "backgroundcolor": "#E5ECF6",
            "gridcolor": "white",
            "gridwidth": 2,
            "linecolor": "white",
            "showbackground": true,
            "ticks": "",
            "zerolinecolor": "white"
           },
           "yaxis": {
            "backgroundcolor": "#E5ECF6",
            "gridcolor": "white",
            "gridwidth": 2,
            "linecolor": "white",
            "showbackground": true,
            "ticks": "",
            "zerolinecolor": "white"
           },
           "zaxis": {
            "backgroundcolor": "#E5ECF6",
            "gridcolor": "white",
            "gridwidth": 2,
            "linecolor": "white",
            "showbackground": true,
            "ticks": "",
            "zerolinecolor": "white"
           }
          },
          "shapedefaults": {
           "line": {
            "color": "#2a3f5f"
           }
          },
          "ternary": {
           "aaxis": {
            "gridcolor": "white",
            "linecolor": "white",
            "ticks": ""
           },
           "baxis": {
            "gridcolor": "white",
            "linecolor": "white",
            "ticks": ""
           },
           "bgcolor": "#E5ECF6",
           "caxis": {
            "gridcolor": "white",
            "linecolor": "white",
            "ticks": ""
           }
          },
          "title": {
           "x": 0.05
          },
          "xaxis": {
           "automargin": true,
           "gridcolor": "white",
           "linecolor": "white",
           "ticks": "",
           "title": {
            "standoff": 15
           },
           "zerolinecolor": "white",
           "zerolinewidth": 2
          },
          "yaxis": {
           "automargin": true,
           "gridcolor": "white",
           "linecolor": "white",
           "ticks": "",
           "title": {
            "standoff": 15
           },
           "zerolinecolor": "white",
           "zerolinewidth": 2
          }
         }
        },
        "xaxis": {
         "anchor": "y",
         "domain": [
          0,
          1
         ],
         "title": {
          "text": "ORB"
         }
        },
        "yaxis": {
         "anchor": "x",
         "domain": [
          0,
          1
         ],
         "title": {
          "text": "3P%"
         }
        }
       }
      }
     },
     "metadata": {},
     "output_type": "display_data"
    }
   ],
   "source": [
    "from sklearn.decomposition import PCA\n",
    "import plotly.express as px\n",
    "\n",
    "fig = px.scatter(df, x='ORB', y='3P%',\n",
    "                 hover_name='Player')\n",
    "fig.show()\n",
    "\n",
    "\n",
    "\n",
    "\n",
    "\n",
    "# X = np.array(df[all_features])\n",
    "# print(X)\n",
    "# df[all_features]\n",
    "\n",
    "# pca = PCA(n_components=2)\n",
    "\n",
    "# principalComponents = pca.fit_transform(X)\n",
    "\n",
    "# plt.scatter(principalComponents[:,0],\n",
    "#             principalComponents[:,1])\n",
    "# plt.show()"
   ]
  }
 ],
 "metadata": {
  "kernelspec": {
   "display_name": "Python 3.9.6 64-bit",
   "language": "python",
   "name": "python3"
  },
  "language_info": {
   "codemirror_mode": {
    "name": "ipython",
    "version": 3
   },
   "file_extension": ".py",
   "mimetype": "text/x-python",
   "name": "python",
   "nbconvert_exporter": "python",
   "pygments_lexer": "ipython3",
   "version": "3.9.6"
  },
  "orig_nbformat": 4,
  "vscode": {
   "interpreter": {
    "hash": "31f2aee4e71d21fbe5cf8b01ff0e069b9275f58929596ceb00d14d90e3e16cd6"
   }
  }
 },
 "nbformat": 4,
 "nbformat_minor": 2
}
