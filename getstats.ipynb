{
 "cells": [
  {
   "cell_type": "code",
   "execution_count": 1,
   "metadata": {},
   "outputs": [],
   "source": [
    "import requests\n",
    "from bs4 import BeautifulSoup\n",
    "import time\n",
    "import random\n",
    "import pandas as pd\n",
    "import numpy as np\n",
    "\n",
    "\n",
    "    \n",
    "\n",
    "\n",
    "def get_pages():\n",
    "    urls = [f\"https://basketball.realgm.com/nba/stats/2023/Averages/Qualified/points/All/desc/{i}/Regular_Season\" for i in range(1,5)]\n",
    "    \n",
    "    html = requests.get(urls[0]).content\n",
    "    time.sleep(random.uniform(1,3))\n",
    "    soup = BeautifulSoup(html, 'html.parser')\n",
    "\n",
    "    table = soup.find_all('table', {\"data-tablesaw-mode\":\"swipe\"})[0]\n",
    "    stats = [stat.text for stat in table.find('thead').find_all('th')][1:]\n",
    "    stats_df = pd.DataFrame(columns=stats)\n",
    "\n",
    "    for url in urls:\n",
    "        html = requests.get(url).content\n",
    "        time.sleep(random.uniform(1,3))\n",
    "        soup = BeautifulSoup(html, 'html.parser')\n",
    "        \n",
    "        try:\n",
    "            table = soup.find_all('table', {\"data-tablesaw-mode\":\"swipe\"})[0]\n",
    "        except Exception:\n",
    "            break\n",
    "        else:\n",
    "            player_stats_list = []\n",
    "            rows = table.find('tbody').find_all('tr')\n",
    "            for row in rows:\n",
    "                player_stats = row.getText(separator='***').split('***')[1:]\n",
    "                player_stats_list.append(player_stats)\n",
    "\n",
    "\n",
    "            stats_df = pd.concat([stats_df, pd.DataFrame(player_stats_list, columns=stats)])\n",
    "        \n",
    "    return stats_df\n",
    "\n",
    "        \n",
    "\n",
    "\n",
    "data_df = get_pages()"
   ]
  },
  {
   "cell_type": "code",
   "execution_count": 2,
   "metadata": {},
   "outputs": [
    {
     "data": {
      "text/html": [
       "<div>\n",
       "<style scoped>\n",
       "    .dataframe tbody tr th:only-of-type {\n",
       "        vertical-align: middle;\n",
       "    }\n",
       "\n",
       "    .dataframe tbody tr th {\n",
       "        vertical-align: top;\n",
       "    }\n",
       "\n",
       "    .dataframe thead th {\n",
       "        text-align: right;\n",
       "    }\n",
       "</style>\n",
       "<table border=\"1\" class=\"dataframe\">\n",
       "  <thead>\n",
       "    <tr style=\"text-align: right;\">\n",
       "      <th></th>\n",
       "      <th>Player</th>\n",
       "      <th>Team</th>\n",
       "      <th>GP</th>\n",
       "      <th>MPG</th>\n",
       "      <th>PPG</th>\n",
       "      <th>FGM</th>\n",
       "      <th>FGA</th>\n",
       "      <th>FG%</th>\n",
       "      <th>3PM</th>\n",
       "      <th>3PA</th>\n",
       "      <th>...</th>\n",
       "      <th>FTA</th>\n",
       "      <th>FT%</th>\n",
       "      <th>ORB</th>\n",
       "      <th>DRB</th>\n",
       "      <th>RPG</th>\n",
       "      <th>APG</th>\n",
       "      <th>SPG</th>\n",
       "      <th>BPG</th>\n",
       "      <th>TOV</th>\n",
       "      <th>PF</th>\n",
       "    </tr>\n",
       "  </thead>\n",
       "  <tbody>\n",
       "    <tr>\n",
       "      <th>0</th>\n",
       "      <td>Luka Doncic</td>\n",
       "      <td>DAL</td>\n",
       "      <td>11.0</td>\n",
       "      <td>36.9</td>\n",
       "      <td>33.6</td>\n",
       "      <td>11.5</td>\n",
       "      <td>23.6</td>\n",
       "      <td>0.488</td>\n",
       "      <td>2.5</td>\n",
       "      <td>8.5</td>\n",
       "      <td>...</td>\n",
       "      <td>11.0</td>\n",
       "      <td>0.736</td>\n",
       "      <td>0.8</td>\n",
       "      <td>7.5</td>\n",
       "      <td>8.3</td>\n",
       "      <td>7.9</td>\n",
       "      <td>2.0</td>\n",
       "      <td>0.6</td>\n",
       "      <td>3.4</td>\n",
       "      <td>3.3</td>\n",
       "    </tr>\n",
       "    <tr>\n",
       "      <th>1</th>\n",
       "      <td>Stephen Curry</td>\n",
       "      <td>GSW</td>\n",
       "      <td>10.0</td>\n",
       "      <td>35.1</td>\n",
       "      <td>32.6</td>\n",
       "      <td>10.8</td>\n",
       "      <td>21.1</td>\n",
       "      <td>0.512</td>\n",
       "      <td>5.3</td>\n",
       "      <td>12.3</td>\n",
       "      <td>...</td>\n",
       "      <td>6.1</td>\n",
       "      <td>0.934</td>\n",
       "      <td>0.8</td>\n",
       "      <td>6.3</td>\n",
       "      <td>7.1</td>\n",
       "      <td>6.9</td>\n",
       "      <td>1.1</td>\n",
       "      <td>0.1</td>\n",
       "      <td>2.6</td>\n",
       "      <td>2.1</td>\n",
       "    </tr>\n",
       "    <tr>\n",
       "      <th>2</th>\n",
       "      <td>Donovan Mitchell</td>\n",
       "      <td>CLE</td>\n",
       "      <td>10.0</td>\n",
       "      <td>39.2</td>\n",
       "      <td>31.9</td>\n",
       "      <td>11.3</td>\n",
       "      <td>22.0</td>\n",
       "      <td>0.514</td>\n",
       "      <td>4.3</td>\n",
       "      <td>9.6</td>\n",
       "      <td>...</td>\n",
       "      <td>5.8</td>\n",
       "      <td>0.862</td>\n",
       "      <td>1.1</td>\n",
       "      <td>3.1</td>\n",
       "      <td>4.2</td>\n",
       "      <td>5.8</td>\n",
       "      <td>1.3</td>\n",
       "      <td>0.6</td>\n",
       "      <td>3.4</td>\n",
       "      <td>3.2</td>\n",
       "    </tr>\n",
       "    <tr>\n",
       "      <th>3</th>\n",
       "      <td>Giannis Antetokounmpo</td>\n",
       "      <td>MIL</td>\n",
       "      <td>9.0</td>\n",
       "      <td>32.7</td>\n",
       "      <td>31.8</td>\n",
       "      <td>11.4</td>\n",
       "      <td>21.1</td>\n",
       "      <td>0.542</td>\n",
       "      <td>0.9</td>\n",
       "      <td>3.3</td>\n",
       "      <td>...</td>\n",
       "      <td>12.3</td>\n",
       "      <td>0.649</td>\n",
       "      <td>1.9</td>\n",
       "      <td>10.3</td>\n",
       "      <td>12.2</td>\n",
       "      <td>5.3</td>\n",
       "      <td>1.1</td>\n",
       "      <td>1.4</td>\n",
       "      <td>3.3</td>\n",
       "      <td>2.9</td>\n",
       "    </tr>\n",
       "    <tr>\n",
       "      <th>4</th>\n",
       "      <td>Shai Gilgeous-Alexander</td>\n",
       "      <td>OKC</td>\n",
       "      <td>10.0</td>\n",
       "      <td>36.7</td>\n",
       "      <td>31.6</td>\n",
       "      <td>11.7</td>\n",
       "      <td>21.8</td>\n",
       "      <td>0.537</td>\n",
       "      <td>0.9</td>\n",
       "      <td>2.8</td>\n",
       "      <td>...</td>\n",
       "      <td>7.7</td>\n",
       "      <td>0.948</td>\n",
       "      <td>1.0</td>\n",
       "      <td>3.5</td>\n",
       "      <td>4.5</td>\n",
       "      <td>5.6</td>\n",
       "      <td>1.9</td>\n",
       "      <td>1.5</td>\n",
       "      <td>3.1</td>\n",
       "      <td>2.6</td>\n",
       "    </tr>\n",
       "    <tr>\n",
       "      <th>...</th>\n",
       "      <td>...</td>\n",
       "      <td>...</td>\n",
       "      <td>...</td>\n",
       "      <td>...</td>\n",
       "      <td>...</td>\n",
       "      <td>...</td>\n",
       "      <td>...</td>\n",
       "      <td>...</td>\n",
       "      <td>...</td>\n",
       "      <td>...</td>\n",
       "      <td>...</td>\n",
       "      <td>...</td>\n",
       "      <td>...</td>\n",
       "      <td>...</td>\n",
       "      <td>...</td>\n",
       "      <td>...</td>\n",
       "      <td>...</td>\n",
       "      <td>...</td>\n",
       "      <td>...</td>\n",
       "      <td>...</td>\n",
       "      <td>...</td>\n",
       "    </tr>\n",
       "    <tr>\n",
       "      <th>92</th>\n",
       "      <td>Josh Okogie</td>\n",
       "      <td>PHX</td>\n",
       "      <td>10.0</td>\n",
       "      <td>4.9</td>\n",
       "      <td>1.2</td>\n",
       "      <td>0.4</td>\n",
       "      <td>1.2</td>\n",
       "      <td>0.333</td>\n",
       "      <td>0.0</td>\n",
       "      <td>0.6</td>\n",
       "      <td>...</td>\n",
       "      <td>0.6</td>\n",
       "      <td>0.667</td>\n",
       "      <td>0.3</td>\n",
       "      <td>0.9</td>\n",
       "      <td>1.2</td>\n",
       "      <td>0.0</td>\n",
       "      <td>0.3</td>\n",
       "      <td>0.1</td>\n",
       "      <td>0.4</td>\n",
       "      <td>0.6</td>\n",
       "    </tr>\n",
       "    <tr>\n",
       "      <th>93</th>\n",
       "      <td>Paul Reed, Jr.</td>\n",
       "      <td>PHI</td>\n",
       "      <td>9.0</td>\n",
       "      <td>7.4</td>\n",
       "      <td>0.7</td>\n",
       "      <td>0.3</td>\n",
       "      <td>1.2</td>\n",
       "      <td>0.273</td>\n",
       "      <td>0.0</td>\n",
       "      <td>0.2</td>\n",
       "      <td>...</td>\n",
       "      <td>0.0</td>\n",
       "      <td>0.000</td>\n",
       "      <td>0.4</td>\n",
       "      <td>1.3</td>\n",
       "      <td>1.8</td>\n",
       "      <td>0.1</td>\n",
       "      <td>1.2</td>\n",
       "      <td>0.4</td>\n",
       "      <td>0.3</td>\n",
       "      <td>1.7</td>\n",
       "    </tr>\n",
       "    <tr>\n",
       "      <th>94</th>\n",
       "      <td>KZ Okpala</td>\n",
       "      <td>SAC</td>\n",
       "      <td>6.0</td>\n",
       "      <td>6.4</td>\n",
       "      <td>0.5</td>\n",
       "      <td>0.2</td>\n",
       "      <td>0.8</td>\n",
       "      <td>0.200</td>\n",
       "      <td>0.2</td>\n",
       "      <td>0.7</td>\n",
       "      <td>...</td>\n",
       "      <td>0.0</td>\n",
       "      <td>0.000</td>\n",
       "      <td>0.3</td>\n",
       "      <td>0.7</td>\n",
       "      <td>1.0</td>\n",
       "      <td>0.3</td>\n",
       "      <td>0.0</td>\n",
       "      <td>0.0</td>\n",
       "      <td>0.0</td>\n",
       "      <td>0.7</td>\n",
       "    </tr>\n",
       "    <tr>\n",
       "      <th>95</th>\n",
       "      <td>Jaxson Hayes</td>\n",
       "      <td>NOP</td>\n",
       "      <td>5.0</td>\n",
       "      <td>7.4</td>\n",
       "      <td>0.4</td>\n",
       "      <td>0.2</td>\n",
       "      <td>1.0</td>\n",
       "      <td>0.200</td>\n",
       "      <td>0.0</td>\n",
       "      <td>0.4</td>\n",
       "      <td>...</td>\n",
       "      <td>0.4</td>\n",
       "      <td>0.000</td>\n",
       "      <td>0.2</td>\n",
       "      <td>0.8</td>\n",
       "      <td>1.0</td>\n",
       "      <td>0.6</td>\n",
       "      <td>0.2</td>\n",
       "      <td>0.2</td>\n",
       "      <td>0.2</td>\n",
       "      <td>1.0</td>\n",
       "    </tr>\n",
       "    <tr>\n",
       "      <th>96</th>\n",
       "      <td>Cody Martin</td>\n",
       "      <td>CHA</td>\n",
       "      <td>1.0</td>\n",
       "      <td>0.9</td>\n",
       "      <td>0.0</td>\n",
       "      <td>0.0</td>\n",
       "      <td>0.0</td>\n",
       "      <td>0.000</td>\n",
       "      <td>0.0</td>\n",
       "      <td>0.0</td>\n",
       "      <td>...</td>\n",
       "      <td>0.0</td>\n",
       "      <td>0.000</td>\n",
       "      <td>0.0</td>\n",
       "      <td>0.0</td>\n",
       "      <td>0.0</td>\n",
       "      <td>0.0</td>\n",
       "      <td>0.0</td>\n",
       "      <td>0.0</td>\n",
       "      <td>0.0</td>\n",
       "      <td>0.0</td>\n",
       "    </tr>\n",
       "  </tbody>\n",
       "</table>\n",
       "<p>297 rows × 22 columns</p>\n",
       "</div>"
      ],
      "text/plain": [
       "                     Player Team    GP   MPG   PPG   FGM   FGA    FG%  3PM  \\\n",
       "0               Luka Doncic  DAL  11.0  36.9  33.6  11.5  23.6  0.488  2.5   \n",
       "1             Stephen Curry  GSW  10.0  35.1  32.6  10.8  21.1  0.512  5.3   \n",
       "2          Donovan Mitchell  CLE  10.0  39.2  31.9  11.3  22.0  0.514  4.3   \n",
       "3     Giannis Antetokounmpo  MIL   9.0  32.7  31.8  11.4  21.1  0.542  0.9   \n",
       "4   Shai Gilgeous-Alexander  OKC  10.0  36.7  31.6  11.7  21.8  0.537  0.9   \n",
       "..                      ...  ...   ...   ...   ...   ...   ...    ...  ...   \n",
       "92              Josh Okogie  PHX  10.0   4.9   1.2   0.4   1.2  0.333  0.0   \n",
       "93           Paul Reed, Jr.  PHI   9.0   7.4   0.7   0.3   1.2  0.273  0.0   \n",
       "94                KZ Okpala  SAC   6.0   6.4   0.5   0.2   0.8  0.200  0.2   \n",
       "95             Jaxson Hayes  NOP   5.0   7.4   0.4   0.2   1.0  0.200  0.0   \n",
       "96              Cody Martin  CHA   1.0   0.9   0.0   0.0   0.0  0.000  0.0   \n",
       "\n",
       "     3PA  ...   FTA    FT%  ORB   DRB   RPG  APG  SPG  BPG  TOV   PF  \n",
       "0    8.5  ...  11.0  0.736  0.8   7.5   8.3  7.9  2.0  0.6  3.4  3.3  \n",
       "1   12.3  ...   6.1  0.934  0.8   6.3   7.1  6.9  1.1  0.1  2.6  2.1  \n",
       "2    9.6  ...   5.8  0.862  1.1   3.1   4.2  5.8  1.3  0.6  3.4  3.2  \n",
       "3    3.3  ...  12.3  0.649  1.9  10.3  12.2  5.3  1.1  1.4  3.3  2.9  \n",
       "4    2.8  ...   7.7  0.948  1.0   3.5   4.5  5.6  1.9  1.5  3.1  2.6  \n",
       "..   ...  ...   ...    ...  ...   ...   ...  ...  ...  ...  ...  ...  \n",
       "92   0.6  ...   0.6  0.667  0.3   0.9   1.2  0.0  0.3  0.1  0.4  0.6  \n",
       "93   0.2  ...   0.0  0.000  0.4   1.3   1.8  0.1  1.2  0.4  0.3  1.7  \n",
       "94   0.7  ...   0.0  0.000  0.3   0.7   1.0  0.3  0.0  0.0  0.0  0.7  \n",
       "95   0.4  ...   0.4  0.000  0.2   0.8   1.0  0.6  0.2  0.2  0.2  1.0  \n",
       "96   0.0  ...   0.0  0.000  0.0   0.0   0.0  0.0  0.0  0.0  0.0  0.0  \n",
       "\n",
       "[297 rows x 22 columns]"
      ]
     },
     "execution_count": 2,
     "metadata": {},
     "output_type": "execute_result"
    }
   ],
   "source": [
    "data = data_df.copy()\n",
    "\n",
    "for column in data.columns[2:]:\n",
    "    data[column] = [float(point) for point in data[column]]\n",
    "\n",
    "data"
   ]
  },
  {
   "cell_type": "markdown",
   "metadata": {},
   "source": [
    "Get Player Positions"
   ]
  },
  {
   "cell_type": "code",
   "execution_count": 3,
   "metadata": {},
   "outputs": [],
   "source": [
    "def get_positions():\n",
    "    url = \"https://basketball.realgm.com/nba/players\"\n",
    "    html = requests.get(url).content\n",
    "    time.sleep(random.uniform(1,3))\n",
    "    soup = BeautifulSoup(html, 'html.parser')\n",
    "\n",
    "    table_class = soup.find_all(\"table\", {\"data-tablesaw-mode\": \"swipe\"})[0].find(\"tbody\")\n",
    "    rows = table_class.find_all(\"tr\")\n",
    "\n",
    "    player_positions = { rows[i].find(\"td\", {\"data-th\": \"Player\"}).text: rows[i].find(\"td\", {\"data-th\": \"Pos\"}).text\n",
    "                         for i in range(len(rows)) }\n",
    "    \n",
    "    positions = []\n",
    "    for player in data['Player']:\n",
    "        try:\n",
    "            position = player_positions[player]\n",
    "        except Exception:\n",
    "            position = None\n",
    "        finally:\n",
    "            positions.append(position)\n",
    "\n",
    "    data['Position'] = positions\n",
    "\n",
    "get_positions()"
   ]
  },
  {
   "cell_type": "code",
   "execution_count": 4,
   "metadata": {},
   "outputs": [
    {
     "data": {
      "text/html": [
       "<div>\n",
       "<style scoped>\n",
       "    .dataframe tbody tr th:only-of-type {\n",
       "        vertical-align: middle;\n",
       "    }\n",
       "\n",
       "    .dataframe tbody tr th {\n",
       "        vertical-align: top;\n",
       "    }\n",
       "\n",
       "    .dataframe thead th {\n",
       "        text-align: right;\n",
       "    }\n",
       "</style>\n",
       "<table border=\"1\" class=\"dataframe\">\n",
       "  <thead>\n",
       "    <tr style=\"text-align: right;\">\n",
       "      <th></th>\n",
       "      <th>Player</th>\n",
       "      <th>Team</th>\n",
       "      <th>GP</th>\n",
       "      <th>MPG</th>\n",
       "      <th>PPG</th>\n",
       "      <th>FGM</th>\n",
       "      <th>FGA</th>\n",
       "      <th>FG%</th>\n",
       "      <th>3PM</th>\n",
       "      <th>3PA</th>\n",
       "      <th>...</th>\n",
       "      <th>FT%</th>\n",
       "      <th>ORB</th>\n",
       "      <th>DRB</th>\n",
       "      <th>RPG</th>\n",
       "      <th>APG</th>\n",
       "      <th>SPG</th>\n",
       "      <th>BPG</th>\n",
       "      <th>TOV</th>\n",
       "      <th>PF</th>\n",
       "      <th>Position</th>\n",
       "    </tr>\n",
       "  </thead>\n",
       "  <tbody>\n",
       "    <tr>\n",
       "      <th>0</th>\n",
       "      <td>Luka Doncic</td>\n",
       "      <td>DAL</td>\n",
       "      <td>11.0</td>\n",
       "      <td>36.9</td>\n",
       "      <td>33.6</td>\n",
       "      <td>11.5</td>\n",
       "      <td>23.6</td>\n",
       "      <td>0.488</td>\n",
       "      <td>2.5</td>\n",
       "      <td>8.5</td>\n",
       "      <td>...</td>\n",
       "      <td>0.736</td>\n",
       "      <td>0.8</td>\n",
       "      <td>7.5</td>\n",
       "      <td>8.3</td>\n",
       "      <td>7.9</td>\n",
       "      <td>2.0</td>\n",
       "      <td>0.6</td>\n",
       "      <td>3.4</td>\n",
       "      <td>3.3</td>\n",
       "      <td>F</td>\n",
       "    </tr>\n",
       "    <tr>\n",
       "      <th>1</th>\n",
       "      <td>Stephen Curry</td>\n",
       "      <td>GSW</td>\n",
       "      <td>10.0</td>\n",
       "      <td>35.1</td>\n",
       "      <td>32.6</td>\n",
       "      <td>10.8</td>\n",
       "      <td>21.1</td>\n",
       "      <td>0.512</td>\n",
       "      <td>5.3</td>\n",
       "      <td>12.3</td>\n",
       "      <td>...</td>\n",
       "      <td>0.934</td>\n",
       "      <td>0.8</td>\n",
       "      <td>6.3</td>\n",
       "      <td>7.1</td>\n",
       "      <td>6.9</td>\n",
       "      <td>1.1</td>\n",
       "      <td>0.1</td>\n",
       "      <td>2.6</td>\n",
       "      <td>2.1</td>\n",
       "      <td>G</td>\n",
       "    </tr>\n",
       "    <tr>\n",
       "      <th>2</th>\n",
       "      <td>Donovan Mitchell</td>\n",
       "      <td>CLE</td>\n",
       "      <td>10.0</td>\n",
       "      <td>39.2</td>\n",
       "      <td>31.9</td>\n",
       "      <td>11.3</td>\n",
       "      <td>22.0</td>\n",
       "      <td>0.514</td>\n",
       "      <td>4.3</td>\n",
       "      <td>9.6</td>\n",
       "      <td>...</td>\n",
       "      <td>0.862</td>\n",
       "      <td>1.1</td>\n",
       "      <td>3.1</td>\n",
       "      <td>4.2</td>\n",
       "      <td>5.8</td>\n",
       "      <td>1.3</td>\n",
       "      <td>0.6</td>\n",
       "      <td>3.4</td>\n",
       "      <td>3.2</td>\n",
       "      <td>G</td>\n",
       "    </tr>\n",
       "    <tr>\n",
       "      <th>3</th>\n",
       "      <td>Giannis Antetokounmpo</td>\n",
       "      <td>MIL</td>\n",
       "      <td>9.0</td>\n",
       "      <td>32.7</td>\n",
       "      <td>31.8</td>\n",
       "      <td>11.4</td>\n",
       "      <td>21.1</td>\n",
       "      <td>0.542</td>\n",
       "      <td>0.9</td>\n",
       "      <td>3.3</td>\n",
       "      <td>...</td>\n",
       "      <td>0.649</td>\n",
       "      <td>1.9</td>\n",
       "      <td>10.3</td>\n",
       "      <td>12.2</td>\n",
       "      <td>5.3</td>\n",
       "      <td>1.1</td>\n",
       "      <td>1.4</td>\n",
       "      <td>3.3</td>\n",
       "      <td>2.9</td>\n",
       "      <td>F</td>\n",
       "    </tr>\n",
       "    <tr>\n",
       "      <th>4</th>\n",
       "      <td>Shai Gilgeous-Alexander</td>\n",
       "      <td>OKC</td>\n",
       "      <td>10.0</td>\n",
       "      <td>36.7</td>\n",
       "      <td>31.6</td>\n",
       "      <td>11.7</td>\n",
       "      <td>21.8</td>\n",
       "      <td>0.537</td>\n",
       "      <td>0.9</td>\n",
       "      <td>2.8</td>\n",
       "      <td>...</td>\n",
       "      <td>0.948</td>\n",
       "      <td>1.0</td>\n",
       "      <td>3.5</td>\n",
       "      <td>4.5</td>\n",
       "      <td>5.6</td>\n",
       "      <td>1.9</td>\n",
       "      <td>1.5</td>\n",
       "      <td>3.1</td>\n",
       "      <td>2.6</td>\n",
       "      <td>G</td>\n",
       "    </tr>\n",
       "    <tr>\n",
       "      <th>...</th>\n",
       "      <td>...</td>\n",
       "      <td>...</td>\n",
       "      <td>...</td>\n",
       "      <td>...</td>\n",
       "      <td>...</td>\n",
       "      <td>...</td>\n",
       "      <td>...</td>\n",
       "      <td>...</td>\n",
       "      <td>...</td>\n",
       "      <td>...</td>\n",
       "      <td>...</td>\n",
       "      <td>...</td>\n",
       "      <td>...</td>\n",
       "      <td>...</td>\n",
       "      <td>...</td>\n",
       "      <td>...</td>\n",
       "      <td>...</td>\n",
       "      <td>...</td>\n",
       "      <td>...</td>\n",
       "      <td>...</td>\n",
       "      <td>...</td>\n",
       "    </tr>\n",
       "    <tr>\n",
       "      <th>92</th>\n",
       "      <td>Josh Okogie</td>\n",
       "      <td>PHX</td>\n",
       "      <td>10.0</td>\n",
       "      <td>4.9</td>\n",
       "      <td>1.2</td>\n",
       "      <td>0.4</td>\n",
       "      <td>1.2</td>\n",
       "      <td>0.333</td>\n",
       "      <td>0.0</td>\n",
       "      <td>0.6</td>\n",
       "      <td>...</td>\n",
       "      <td>0.667</td>\n",
       "      <td>0.3</td>\n",
       "      <td>0.9</td>\n",
       "      <td>1.2</td>\n",
       "      <td>0.0</td>\n",
       "      <td>0.3</td>\n",
       "      <td>0.1</td>\n",
       "      <td>0.4</td>\n",
       "      <td>0.6</td>\n",
       "      <td>G</td>\n",
       "    </tr>\n",
       "    <tr>\n",
       "      <th>93</th>\n",
       "      <td>Paul Reed, Jr.</td>\n",
       "      <td>PHI</td>\n",
       "      <td>9.0</td>\n",
       "      <td>7.4</td>\n",
       "      <td>0.7</td>\n",
       "      <td>0.3</td>\n",
       "      <td>1.2</td>\n",
       "      <td>0.273</td>\n",
       "      <td>0.0</td>\n",
       "      <td>0.2</td>\n",
       "      <td>...</td>\n",
       "      <td>0.000</td>\n",
       "      <td>0.4</td>\n",
       "      <td>1.3</td>\n",
       "      <td>1.8</td>\n",
       "      <td>0.1</td>\n",
       "      <td>1.2</td>\n",
       "      <td>0.4</td>\n",
       "      <td>0.3</td>\n",
       "      <td>1.7</td>\n",
       "      <td>F</td>\n",
       "    </tr>\n",
       "    <tr>\n",
       "      <th>94</th>\n",
       "      <td>KZ Okpala</td>\n",
       "      <td>SAC</td>\n",
       "      <td>6.0</td>\n",
       "      <td>6.4</td>\n",
       "      <td>0.5</td>\n",
       "      <td>0.2</td>\n",
       "      <td>0.8</td>\n",
       "      <td>0.200</td>\n",
       "      <td>0.2</td>\n",
       "      <td>0.7</td>\n",
       "      <td>...</td>\n",
       "      <td>0.000</td>\n",
       "      <td>0.3</td>\n",
       "      <td>0.7</td>\n",
       "      <td>1.0</td>\n",
       "      <td>0.3</td>\n",
       "      <td>0.0</td>\n",
       "      <td>0.0</td>\n",
       "      <td>0.0</td>\n",
       "      <td>0.7</td>\n",
       "      <td>G</td>\n",
       "    </tr>\n",
       "    <tr>\n",
       "      <th>95</th>\n",
       "      <td>Jaxson Hayes</td>\n",
       "      <td>NOP</td>\n",
       "      <td>5.0</td>\n",
       "      <td>7.4</td>\n",
       "      <td>0.4</td>\n",
       "      <td>0.2</td>\n",
       "      <td>1.0</td>\n",
       "      <td>0.200</td>\n",
       "      <td>0.0</td>\n",
       "      <td>0.4</td>\n",
       "      <td>...</td>\n",
       "      <td>0.000</td>\n",
       "      <td>0.2</td>\n",
       "      <td>0.8</td>\n",
       "      <td>1.0</td>\n",
       "      <td>0.6</td>\n",
       "      <td>0.2</td>\n",
       "      <td>0.2</td>\n",
       "      <td>0.2</td>\n",
       "      <td>1.0</td>\n",
       "      <td>F</td>\n",
       "    </tr>\n",
       "    <tr>\n",
       "      <th>96</th>\n",
       "      <td>Cody Martin</td>\n",
       "      <td>CHA</td>\n",
       "      <td>1.0</td>\n",
       "      <td>0.9</td>\n",
       "      <td>0.0</td>\n",
       "      <td>0.0</td>\n",
       "      <td>0.0</td>\n",
       "      <td>0.000</td>\n",
       "      <td>0.0</td>\n",
       "      <td>0.0</td>\n",
       "      <td>...</td>\n",
       "      <td>0.000</td>\n",
       "      <td>0.0</td>\n",
       "      <td>0.0</td>\n",
       "      <td>0.0</td>\n",
       "      <td>0.0</td>\n",
       "      <td>0.0</td>\n",
       "      <td>0.0</td>\n",
       "      <td>0.0</td>\n",
       "      <td>0.0</td>\n",
       "      <td>F</td>\n",
       "    </tr>\n",
       "  </tbody>\n",
       "</table>\n",
       "<p>297 rows × 23 columns</p>\n",
       "</div>"
      ],
      "text/plain": [
       "                     Player Team    GP   MPG   PPG   FGM   FGA    FG%  3PM  \\\n",
       "0               Luka Doncic  DAL  11.0  36.9  33.6  11.5  23.6  0.488  2.5   \n",
       "1             Stephen Curry  GSW  10.0  35.1  32.6  10.8  21.1  0.512  5.3   \n",
       "2          Donovan Mitchell  CLE  10.0  39.2  31.9  11.3  22.0  0.514  4.3   \n",
       "3     Giannis Antetokounmpo  MIL   9.0  32.7  31.8  11.4  21.1  0.542  0.9   \n",
       "4   Shai Gilgeous-Alexander  OKC  10.0  36.7  31.6  11.7  21.8  0.537  0.9   \n",
       "..                      ...  ...   ...   ...   ...   ...   ...    ...  ...   \n",
       "92              Josh Okogie  PHX  10.0   4.9   1.2   0.4   1.2  0.333  0.0   \n",
       "93           Paul Reed, Jr.  PHI   9.0   7.4   0.7   0.3   1.2  0.273  0.0   \n",
       "94                KZ Okpala  SAC   6.0   6.4   0.5   0.2   0.8  0.200  0.2   \n",
       "95             Jaxson Hayes  NOP   5.0   7.4   0.4   0.2   1.0  0.200  0.0   \n",
       "96              Cody Martin  CHA   1.0   0.9   0.0   0.0   0.0  0.000  0.0   \n",
       "\n",
       "     3PA  ...    FT%  ORB   DRB   RPG  APG  SPG  BPG  TOV   PF  Position  \n",
       "0    8.5  ...  0.736  0.8   7.5   8.3  7.9  2.0  0.6  3.4  3.3         F  \n",
       "1   12.3  ...  0.934  0.8   6.3   7.1  6.9  1.1  0.1  2.6  2.1         G  \n",
       "2    9.6  ...  0.862  1.1   3.1   4.2  5.8  1.3  0.6  3.4  3.2         G  \n",
       "3    3.3  ...  0.649  1.9  10.3  12.2  5.3  1.1  1.4  3.3  2.9         F  \n",
       "4    2.8  ...  0.948  1.0   3.5   4.5  5.6  1.9  1.5  3.1  2.6         G  \n",
       "..   ...  ...    ...  ...   ...   ...  ...  ...  ...  ...  ...       ...  \n",
       "92   0.6  ...  0.667  0.3   0.9   1.2  0.0  0.3  0.1  0.4  0.6         G  \n",
       "93   0.2  ...  0.000  0.4   1.3   1.8  0.1  1.2  0.4  0.3  1.7         F  \n",
       "94   0.7  ...  0.000  0.3   0.7   1.0  0.3  0.0  0.0  0.0  0.7         G  \n",
       "95   0.4  ...  0.000  0.2   0.8   1.0  0.6  0.2  0.2  0.2  1.0         F  \n",
       "96   0.0  ...  0.000  0.0   0.0   0.0  0.0  0.0  0.0  0.0  0.0         F  \n",
       "\n",
       "[297 rows x 23 columns]"
      ]
     },
     "execution_count": 4,
     "metadata": {},
     "output_type": "execute_result"
    }
   ],
   "source": [
    "df = data.copy()\n",
    "\n",
    "df.loc[df['Position'].isin(['SF','PF']), 'Position'] = 'F'\n",
    "df.loc[df['Position'].isin(['SG','PG']), 'Position'] = 'G'\n",
    "\n",
    "df"
   ]
  },
  {
   "cell_type": "markdown",
   "metadata": {},
   "source": [
    "Graphing all combonations of features to check for correlation or covariability"
   ]
  },
  {
   "cell_type": "code",
   "execution_count": 72,
   "metadata": {},
   "outputs": [
    {
     "data": {
      "image/png": "[encoded data removed]",
      "text/plain": [
       "<Figure size 2000x15200 with 40 Axes>"
      ]
     },
     "metadata": {},
     "output_type": "display_data"
    }
   ],
   "source": [
    "import matplotlib.pyplot as plt\n",
    "\n",
    "all_features = df.columns[2:-1]\n",
    "\n",
    "\n",
    "combos = []\n",
    "for x in range(len(all_features)):\n",
    "    for y in range(x+1,len(all_features)):\n",
    "        combos.append((all_features[x],all_features[y]))\n",
    "\n",
    "\n",
    "fig = plt.figure(figsize=(20,152))\n",
    "\n",
    "fig_rows = 38\n",
    "fig_cols = 5\n",
    "\n",
    "cur_subplot = 1\n",
    "\n",
    "for i in range(1,fig_rows*fig_cols+1):\n",
    "    try:\n",
    "        correlation_coefficient = np.round(np.corrcoef(df[combos[i][0]],df[combos[i][1]])[0][1], decimals=4)   \n",
    "    except Exception:\n",
    "        break\n",
    "    else:\n",
    "        if correlation_coefficient < 0.6:\n",
    "            continue\n",
    "\n",
    "        ax = fig.add_subplot(fig_rows,fig_cols,cur_subplot)\n",
    "        cur_subplot += 1\n",
    "        ax.scatter(df[combos[i][0]],df[combos[i][1]])\n",
    "        ax.set_xticklabels([])\n",
    "        ax.set_yticklabels([])\n",
    "        ax.xaxis.set_ticks_position('none') \n",
    "        ax.yaxis.set_ticks_position('none')\n",
    "        plt.xlabel(combos[i][0])\n",
    "        plt.ylabel(combos[i][1])\n",
    "        correlation_coefficient = np.round(np.corrcoef(df[combos[i][0]],df[combos[i][1]])[0][1], decimals=4)\n",
    "        ax.set_title(f\"{combos[i][0]} / {combos[i][1]} | {correlation_coefficient}\")\n",
    "\n",
    "plt.show()"
   ]
  },
  {
   "cell_type": "code",
   "execution_count": 84,
   "metadata": {},
   "outputs": [
    {
     "data": {
      "application/vnd.plotly.v1+json": {
       "config": {
        "plotlyServerURL": "https://plot.ly"
       },
       "data": [
        {
         "hovertemplate": "<b>%{hovertext}</b><br><br>FGA=%{x}<br>FTA=%{y}<extra></extra>",
         "hovertext": [
          "Luka Doncic",
          "Stephen Curry",
          "Donovan Mitchell",
          "Giannis Antetokounmpo",
          "Shai Gilgeous-Alexander",
          "Jayson Tatum",
          "Kevin Durant",
          "Ja Morant",
          "Joel Embiid",
          "Devin Booker",
          "Trae Young",
          "Kyrie Irving",
          "Paul George",
          "Jaylen Brown",
          "De'Aaron Fox",
          "LeBron James",
          "Pascal Siakam",
          "Desmond Bane",
          "DeMar DeRozan",
          "Paolo Banchero",
          "Zion Williamson",
          "Keldon Johnson",
          "Anthony Davis",
          "Tyrese Maxey",
          "Lauri Markkanen",
          "Jimmy Butler",
          "Anfernee Simons",
          "James Harden",
          "Tyrese Haliburton",
          "Dejounte Murray",
          "Bradley Beal",
          "Karl-Anthony Towns",
          "Anthony Edwards",
          "Nikola Jokic",
          "Jalen Green",
          "Julius Randle",
          "Bennedict Mathurin",
          "Cade Cunningham",
          "Jrue Holiday",
          "Tyler Herro",
          "R.J. Barrett",
          "Bojan Bogdanovic",
          "Kristaps Porzingis",
          "Jalen Brunson",
          "Jerami Grant",
          "Kevin Porter, Jr.",
          "Fred VanVleet",
          "Kyle Kuzma",
          "Jordan Clarkson",
          "C.J. McCollum",
          "Buddy Hield",
          "Franz Wagner",
          "Kelly Oubre, Jr.",
          "Spencer Dinwiddie",
          "Andrew Wiggins",
          "Gary Trent, Jr.",
          "Michael Porter, Jr.",
          "Bam Adebayo",
          "Gordon Hayward",
          "Alperen Sengun",
          "Saddiq Bey",
          "OG Anunoby",
          "Domantas Sabonis",
          "Kevin Huerter",
          "Nikola Vucevic",
          "Mikal Bridges",
          "Russell Westbrook",
          "Jamal Murray",
          "Wendell Carter, Jr.",
          "Christian Wood",
          "Brook Lopez",
          "P.J. Washington",
          "Jaden Ivey",
          "Lonnie Walker",
          "Evan Mobley",
          "Jordan Poole",
          "Klay Thompson",
          "De'Andre Hunter",
          "Marcus Morris",
          "Tobias Harris",
          "Deandre Ayton",
          "Dillon Brooks",
          "Aaron Gordon",
          "Jonas Valanciunas",
          "Scottie Barnes",
          "Max Strus",
          "Jarrett Allen",
          "Caris LeVert",
          "D'Angelo Russell",
          "Bones Hyland",
          "Rudy Gobert",
          "Malcolm Brogdon",
          "Collin Sexton",
          "Josh Giddey",
          "Bobby Portis",
          "Kyle Lowry",
          "Jusuf Nurkic",
          "Cameron Johnson",
          "Keegan Murray",
          "John Collins",
          "Eric Gordon",
          "Luguentz Dort",
          "Tre Jones",
          "Isaiah Stewart II",
          "John Wall",
          "Jakob Poeltl",
          "Kelly Olynyk",
          "Kevin Love",
          "Malik Monk",
          "Nicolas Claxton",
          "Mike Conley",
          "Ayo Dosunmu",
          "Rui Hachimura",
          "Trey Murphy III",
          "Jaylen Nowell",
          "Kentavious Caldwell-Pope",
          "Tre Mann",
          "Josh Richardson",
          "Norman Powell",
          "Malik Beasley",
          "K.J. Martin",
          "Bol Bol",
          "Tim Hardaway Jr.",
          "Jaden McDaniels",
          "Cameron Payne",
          "Harrison Barnes",
          "Tyus Jones",
          "Grayson Allen",
          "Jalen Smith",
          "Clint Capela",
          "Royce O'Neale",
          "Marcus Smart",
          "Jabari Smith, Jr.",
          "Reggie Jackson",
          "Troy Brown, Jr.",
          "Obi Toppin",
          "Ivica Zubac",
          "Dennis Smith",
          "Al Horford",
          "Goran Dragic",
          "Doug McDermott",
          "Jalen McDaniels",
          "Terrence Ross",
          "Nick Richards",
          "Brandon Clarke",
          "Chris Boucher",
          "Chris Paul",
          "Josh Hart",
          "Shaedon Sharpe",
          "Bruce Brown, Jr.",
          "Cedi Osman",
          "Will Barton",
          "Santi Aldama",
          "Draymond Green",
          "Mason Plumlee",
          "De'Anthony Melton",
          "Georges Niang",
          "Monte Morris",
          "Gabe Vincent",
          "Chris Duarte",
          "Patrick Williams",
          "Precious Achiuwa",
          "Jarred Vanderbilt",
          "Tari Eason",
          "Aleksej Pokusevski",
          "Dorian Finney-Smith",
          "Isaiah Jackson",
          "Naz Reid",
          "Onyeka Okongwu",
          "Zach Collins",
          "Luke Kennard",
          "Grant Williams",
          "Larry Nance, Jr.",
          "Caleb Martin",
          "Coby White",
          "Jevon Carter",
          "Jeff Green",
          "Justise Winslow",
          "Derrick White",
          "Jock Landale",
          "Sam Hauser",
          "Evan Fournier",
          "Taurean Prince",
          "Joe Harris",
          "Jalen Duren",
          "Jeremiah Robinson-Earl",
          "Talen Horton-Tucker",
          "Trey Lyles",
          "Isaiah Hartenstein",
          "Immanuel Quickley",
          "John Konchar",
          "Jose Alvarado",
          "James Wiseman",
          "Davion Mitchell",
          "Dean Wade",
          "Keita Bates-Diop",
          "Naji Marshall",
          "Mike Muscala",
          "Cam Reddish",
          "Edmond Sumner",
          "Landry Shamet",
          "Joshua Primo",
          "Austin Reaves",
          "Jeremy Sochan",
          "Dwight Powell",
          "Nassir Little",
          "Terance Mann",
          "Justin Holiday",
          "Steven Adams",
          "Duncan Robinson",
          "Mitchell Robinson",
          "Andrew Nembhard",
          "Delon Wright",
          "Javonte Green",
          "Jake LaRavia",
          "R.J. Hampton",
          "Kevon Looney",
          "Josh Green",
          "Damion Lee",
          "Daniel Gafford",
          "Moses Moody",
          "Walker Kessler",
          "James Bouknight",
          "Darius Bazley",
          "Kenrich Williams",
          "DeAndre Jordan",
          "Mohamed Bamba",
          "Derrick Rose",
          "Ty Jerome",
          "Derrick Jones",
          "Terence Davis",
          "MarJon Beauchamp",
          "Drew Eubanks",
          "Dewayne Dedmon",
          "Patty Mills",
          "Jordan Nwora",
          "Yuta Watanabe",
          "Isaiah Livers",
          "George Hill",
          "P.J. Tucker",
          "Torrey Craig",
          "Chuma Okeke",
          "David Roddy",
          "Kendrick Nunn",
          "Deni Avdija",
          "Aaron Holiday",
          "Hamidou Diallo",
          "Aaron Wiggins",
          "Devonte' Graham",
          "Maxi Kleber",
          "Reggie Bullock",
          "Patrick Beverley",
          "Matt Ryan",
          "Jonathan Kuminga",
          "Alex Caruso",
          "JaMychal Green",
          "Goga Bitadze",
          "Montrezl Harrell",
          "Rudy Gay",
          "Jalen Johnson",
          "JaVale McGee",
          "Anthony Gill",
          "Garrison Mathews",
          "Danuel House",
          "Dalano Banton",
          "T.J. McConnell",
          "Christian Koloko",
          "Killian Hayes",
          "Richaun Holmes",
          "Daishen Nix",
          "Wenyen Gabriel",
          "Kevon Harris",
          "Nicolas Batum",
          "Wesley Matthews",
          "Theo Maledon",
          "Usman Garuba",
          "Christian Braun",
          "Jordan McLaughlin",
          "Serge Ibaka",
          "Cory Joseph",
          "Isaiah Joe",
          "Ousmane Dieng",
          "Bismack Biyombo",
          "Damian Jones",
          "J.T. Thor",
          "Amir Coffey",
          "Juan Toscano-Anderson",
          "Noah Vonleh",
          "Thaddeus Young",
          "Zeke Nnaji",
          "Isaac Okoro",
          "Matisse Thybulle",
          "Josh Okogie",
          "Paul Reed, Jr.",
          "KZ Okpala",
          "Jaxson Hayes",
          "Cody Martin"
         ],
         "legendgroup": "",
         "marker": {
          "color": "#636efa",
          "symbol": "circle"
         },
         "mode": "markers",
         "name": "",
         "orientation": "v",
         "showlegend": false,
         "type": "scatter",
         "x": [
          23.6,
          21.1,
          22,
          21.1,
          21.8,
          20.1,
          20.1,
          20.6,
          18.5,
          19.9,
          23.1,
          21.5,
          18.7,
          19.9,
          17.7,
          21.9,
          18.6,
          17.9,
          16.4,
          17.5,
          16.6,
          17.4,
          17.2,
          18.3,
          15.8,
          14.8,
          18.2,
          15.9,
          15.1,
          19.2,
          15.9,
          15.1,
          17.8,
          13.3,
          17.9,
          14.9,
          13.6,
          18.7,
          16.8,
          15.4,
          16.5,
          12.8,
          13.9,
          14.9,
          13,
          15.9,
          15,
          14.8,
          15.2,
          18.7,
          14.5,
          15.1,
          16.2,
          14,
          14.6,
          14.3,
          13.1,
          13.3,
          13.3,
          10.5,
          11.7,
          13.3,
          10.8,
          11,
          13,
          10.5,
          13.3,
          14.3,
          10.8,
          10,
          12.4,
          13.5,
          12.7,
          12.8,
          11.1,
          12.5,
          15.4,
          12.4,
          12.3,
          12,
          11.4,
          13.8,
          9.9,
          10.2,
          12.5,
          11.8,
          10.5,
          12.1,
          12.8,
          11.4,
          8.4,
          10.1,
          9.7,
          14.1,
          11.6,
          9.3,
          9.7,
          10.4,
          10.8,
          9.8,
          9.7,
          12.7,
          10.9,
          8.3,
          11.3,
          8.4,
          7.7,
          8.4,
          9.7,
          7.7,
          9.4,
          9.7,
          10,
          8.3,
          10.9,
          8.1,
          11,
          8.5,
          9.6,
          9.7,
          8.3,
          6.7,
          10.2,
          7.7,
          9.8,
          8.4,
          9.7,
          7.5,
          9.3,
          8.3,
          9.6,
          9.4,
          10.9,
          10.2,
          8.8,
          8.2,
          7,
          9.6,
          7.2,
          8.2,
          8.3,
          8.6,
          8.5,
          5.8,
          6,
          7.1,
          7.6,
          7.3,
          7.5,
          8.2,
          7,
          8.8,
          8,
          6.4,
          5.6,
          8.4,
          6.5,
          7.8,
          8.1,
          7.9,
          7.8,
          7.7,
          6.4,
          7.7,
          8.2,
          7.1,
          5.5,
          5.9,
          5.6,
          6.6,
          6.3,
          4.4,
          5.9,
          7.8,
          7.9,
          7.4,
          5.8,
          8.1,
          6.2,
          6.2,
          4.7,
          7.3,
          5.9,
          7.4,
          6,
          5.9,
          7.2,
          5.6,
          6,
          7.5,
          6,
          6.3,
          4.8,
          6.5,
          4.6,
          5.3,
          6.2,
          5.9,
          6.4,
          5.3,
          5.6,
          6.5,
          4.6,
          6.4,
          4.3,
          4.8,
          4.7,
          6.5,
          4.9,
          6.3,
          4.1,
          5.9,
          6,
          4.5,
          4.2,
          4.3,
          4.5,
          3.2,
          4.9,
          3.5,
          4.9,
          3.5,
          7,
          5.8,
          5.3,
          3,
          4.8,
          6.2,
          3.8,
          3.7,
          4.8,
          5.4,
          3.3,
          3.5,
          4.1,
          5.9,
          3.7,
          4.8,
          4,
          3.8,
          4.3,
          4,
          5.8,
          6.4,
          5.5,
          4.2,
          5,
          4.5,
          4.1,
          4.2,
          5.4,
          4.6,
          4.6,
          4,
          4.2,
          4.4,
          3.4,
          2.6,
          5.1,
          3.8,
          3.2,
          3.1,
          3.4,
          3,
          3.6,
          5,
          3.7,
          6,
          2.5,
          3.4,
          2.7,
          3.4,
          3.1,
          3.6,
          3.1,
          2.7,
          3.3,
          3.5,
          2.4,
          2.8,
          2,
          4,
          2.3,
          2.4,
          2.8,
          1.5,
          2.6,
          1.9,
          2.3,
          1.7,
          2.5,
          1.8,
          1.2,
          1.2,
          0.8,
          1,
          0
         ],
         "xaxis": "x",
         "y": [
          11,
          6.1,
          5.8,
          12.3,
          7.7,
          8.7,
          9.2,
          8.4,
          9.8,
          6.6,
          8.5,
          5.1,
          5,
          5.4,
          5.1,
          4.8,
          7.7,
          4.5,
          8.4,
          8.3,
          6.9,
          4.9,
          5.2,
          4.7,
          4.5,
          8.4,
          3.7,
          6.2,
          3.7,
          2.3,
          4,
          4.5,
          4.2,
          5.5,
          4.2,
          6.5,
          5.9,
          3.6,
          2.8,
          3.1,
          4.6,
          4,
          5.1,
          4.2,
          6,
          5.3,
          3.3,
          3.8,
          2.5,
          2.2,
          1.2,
          3,
          3.2,
          2.4,
          2.4,
          3.3,
          1.7,
          4.3,
          4.6,
          5.8,
          5.4,
          2.9,
          7,
          2.8,
          2.7,
          3.2,
          4,
          2.1,
          4.4,
          4.3,
          1.3,
          2.6,
          3.6,
          3,
          3.4,
          3.7,
          1.1,
          2.3,
          0.7,
          1.8,
          2.1,
          1.9,
          3.7,
          4,
          1.7,
          1.2,
          3.4,
          3.5,
          3,
          2.9,
          5.4,
          3.3,
          4.2,
          1,
          1.5,
          3.7,
          3.2,
          1.4,
          1,
          2.3,
          2.6,
          3.2,
          3,
          5,
          3.3,
          3.3,
          2.6,
          2.5,
          1.9,
          2.8,
          2.3,
          0.9,
          2.4,
          1.7,
          1.4,
          1.1,
          1.5,
          2.3,
          2.9,
          0.8,
          2.4,
          2.1,
          2.8,
          1.8,
          1.2,
          4.3,
          0.9,
          2.5,
          2,
          2,
          0.7,
          2.1,
          2.2,
          1.4,
          0.9,
          0.8,
          3.1,
          0.8,
          0.6,
          1.3,
          1,
          1.3,
          0.6,
          3.5,
          2.4,
          1.7,
          3.4,
          2.9,
          1,
          0.8,
          1.5,
          1.1,
          1.7,
          1.7,
          4.1,
          0.6,
          0.5,
          1.6,
          1.8,
          1.3,
          1,
          2.8,
          1.4,
          1.4,
          1.3,
          1,
          3,
          1.3,
          1.3,
          1,
          0.2,
          1.5,
          0.6,
          0.7,
          1.3,
          0.5,
          2.2,
          1.6,
          1.1,
          2,
          0.4,
          0.6,
          0.6,
          0.3,
          2.4,
          1,
          1.2,
          1.1,
          0.9,
          1.7,
          0.2,
          0.8,
          2.3,
          0.3,
          1,
          1.7,
          1.4,
          1.4,
          1,
          1.9,
          1.4,
          2.3,
          2.3,
          0.5,
          1.8,
          1,
          0.9,
          0,
          2.3,
          0.6,
          1.8,
          0.5,
          1.3,
          1.2,
          0.6,
          1.4,
          1.2,
          1.8,
          1.3,
          1.8,
          1.4,
          1.6,
          1.2,
          1,
          0.7,
          1.8,
          0.8,
          0.3,
          1.3,
          2.8,
          1.3,
          0.9,
          1.6,
          1.6,
          0.8,
          1.1,
          0.2,
          0.7,
          2.2,
          0.3,
          0.4,
          1.3,
          0.7,
          0.3,
          1.3,
          0.8,
          2,
          1.1,
          0.8,
          1.1,
          0.5,
          1.6,
          0.6,
          1.5,
          1.5,
          0.5,
          1.8,
          2.1,
          0.6,
          1,
          1.7,
          0.5,
          0.7,
          1.2,
          0.7,
          0.3,
          1.7,
          0.7,
          0.8,
          0.4,
          1.1,
          1.6,
          0.8,
          0.4,
          0.5,
          0.9,
          0.4,
          0.6,
          0.7,
          0.8,
          0.5,
          0.2,
          0.9,
          1.3,
          0.8,
          1.6,
          0.6,
          0,
          0.2,
          0.3,
          0.6,
          0.3,
          0.6,
          0,
          0,
          0.4,
          0
         ],
         "yaxis": "y"
        },
        {
         "hovertemplate": "<b>LOWESS trendline</b><br><br>FGA=%{x}<br>FTA=%{y} <b>(trend)</b><extra></extra>",
         "legendgroup": "",
         "marker": {
          "color": "#636efa",
          "symbol": "circle"
         },
         "mode": "lines",
         "name": "",
         "showlegend": false,
         "type": "scatter",
         "x": [
          0,
          0.8,
          1,
          1.2,
          1.2,
          1.5,
          1.7,
          1.8,
          1.9,
          2,
          2.3,
          2.3,
          2.4,
          2.4,
          2.5,
          2.5,
          2.6,
          2.6,
          2.7,
          2.7,
          2.8,
          2.8,
          3,
          3,
          3.1,
          3.1,
          3.1,
          3.2,
          3.2,
          3.3,
          3.3,
          3.4,
          3.4,
          3.4,
          3.4,
          3.5,
          3.5,
          3.5,
          3.5,
          3.6,
          3.6,
          3.7,
          3.7,
          3.7,
          3.8,
          3.8,
          3.8,
          4,
          4,
          4,
          4,
          4.1,
          4.1,
          4.1,
          4.2,
          4.2,
          4.2,
          4.2,
          4.3,
          4.3,
          4.3,
          4.4,
          4.4,
          4.5,
          4.5,
          4.5,
          4.6,
          4.6,
          4.6,
          4.6,
          4.7,
          4.7,
          4.8,
          4.8,
          4.8,
          4.8,
          4.8,
          4.9,
          4.9,
          4.9,
          5,
          5,
          5.1,
          5.3,
          5.3,
          5.3,
          5.4,
          5.4,
          5.5,
          5.5,
          5.6,
          5.6,
          5.6,
          5.6,
          5.8,
          5.8,
          5.8,
          5.8,
          5.9,
          5.9,
          5.9,
          5.9,
          5.9,
          5.9,
          5.9,
          6,
          6,
          6,
          6,
          6,
          6,
          6.2,
          6.2,
          6.2,
          6.2,
          6.3,
          6.3,
          6.3,
          6.4,
          6.4,
          6.4,
          6.4,
          6.4,
          6.5,
          6.5,
          6.5,
          6.5,
          6.6,
          6.7,
          7,
          7,
          7,
          7.1,
          7.1,
          7.2,
          7.2,
          7.3,
          7.3,
          7.4,
          7.4,
          7.5,
          7.5,
          7.5,
          7.6,
          7.7,
          7.7,
          7.7,
          7.7,
          7.7,
          7.8,
          7.8,
          7.8,
          7.9,
          7.9,
          8,
          8.1,
          8.1,
          8.1,
          8.2,
          8.2,
          8.2,
          8.2,
          8.3,
          8.3,
          8.3,
          8.3,
          8.3,
          8.4,
          8.4,
          8.4,
          8.4,
          8.4,
          8.5,
          8.5,
          8.6,
          8.8,
          8.8,
          9.3,
          9.3,
          9.4,
          9.4,
          9.6,
          9.6,
          9.6,
          9.7,
          9.7,
          9.7,
          9.7,
          9.7,
          9.7,
          9.7,
          9.8,
          9.8,
          9.9,
          10,
          10,
          10.1,
          10.2,
          10.2,
          10.2,
          10.4,
          10.5,
          10.5,
          10.5,
          10.8,
          10.8,
          10.8,
          10.9,
          10.9,
          10.9,
          11,
          11,
          11.1,
          11.3,
          11.4,
          11.4,
          11.6,
          11.7,
          11.8,
          12,
          12.1,
          12.3,
          12.4,
          12.4,
          12.5,
          12.5,
          12.7,
          12.7,
          12.8,
          12.8,
          12.8,
          13,
          13,
          13.1,
          13.3,
          13.3,
          13.3,
          13.3,
          13.3,
          13.5,
          13.6,
          13.8,
          13.9,
          14,
          14.1,
          14.3,
          14.3,
          14.5,
          14.6,
          14.8,
          14.8,
          14.9,
          14.9,
          15,
          15.1,
          15.1,
          15.1,
          15.2,
          15.4,
          15.4,
          15.8,
          15.9,
          15.9,
          15.9,
          16.2,
          16.4,
          16.5,
          16.6,
          16.8,
          17.2,
          17.4,
          17.5,
          17.7,
          17.8,
          17.9,
          17.9,
          18.2,
          18.3,
          18.5,
          18.6,
          18.7,
          18.7,
          18.7,
          19.2,
          19.9,
          19.9,
          20.1,
          20.1,
          20.6,
          21.1,
          21.1,
          21.5,
          21.8,
          21.9,
          22,
          23.1,
          23.6
         ],
         "xaxis": "x",
         "y": [
          0.4936554483210094,
          0.6130309651670028,
          0.6420638190029611,
          0.6707744606110685,
          0.6707744606110685,
          0.713267120714766,
          0.7412455466027414,
          0.7551364042729727,
          0.7689649714351472,
          0.7827348685720941,
          0.8237433588950839,
          0.8237433588950839,
          0.8373313274034948,
          0.8373313274034948,
          0.8508888700159691,
          0.8508888700159691,
          0.8644223915559159,
          0.8644223915559159,
          0.8779383734801496,
          0.8779383734801496,
          0.8914425094704475,
          0.8914425094704475,
          0.9184360705316983,
          0.9184360705316983,
          0.9319354809505901,
          0.9319354809505901,
          0.9319354809505901,
          0.9454418878127389,
          0.9454418878127389,
          0.9589588691263804,
          0.9589588691263804,
          0.9724882583297049,
          0.9724882583297049,
          0.9724882583297049,
          0.9724882583297049,
          0.9860306078706188,
          0.9860306078706188,
          0.9860306078706188,
          0.9860306078706188,
          0.9995846574386322,
          0.9995846574386322,
          1.0131465558654877,
          1.0131465558654877,
          1.0131465558654877,
          1.0267112148416337,
          1.0267112148416337,
          1.0267112148416337,
          1.0538170459187584,
          1.0538170459187584,
          1.0538170459187584,
          1.0538170459187584,
          1.0673372694595122,
          1.0673372694595122,
          1.0673372694595122,
          1.0808166942292068,
          1.0808166942292068,
          1.0808166942292068,
          1.0808166942292068,
          1.0942369802374803,
          1.0942369802374803,
          1.0942369802374803,
          1.1075769061313625,
          1.1075769061313625,
          1.1208119898243154,
          1.1208119898243154,
          1.1208119898243154,
          1.133915083670322,
          1.133915083670322,
          1.133915083670322,
          1.133915083670322,
          1.146856818721371,
          1.146856818721371,
          1.1596068967673996,
          1.1596068967673996,
          1.1596068967673996,
          1.1596068967673996,
          1.1596068967673996,
          1.1721387939739507,
          1.1721387939739507,
          1.1721387939739507,
          1.1844339576929128,
          1.1844339576929128,
          1.1966953856945248,
          1.2204042805952333,
          1.2204042805952333,
          1.2204042805952333,
          1.231838888510459,
          1.231838888510459,
          1.2429834122401915,
          1.2429834122401915,
          1.2538671762729527,
          1.2538671762729527,
          1.2538671762729527,
          1.2538671762729527,
          1.2787385933430346,
          1.2787385933430346,
          1.2787385933430346,
          1.2787385933430346,
          1.2917454509254895,
          1.2917454509254895,
          1.2917454509254895,
          1.2917454509254895,
          1.2917454509254895,
          1.2917454509254895,
          1.2917454509254895,
          1.3025862163460373,
          1.3025862163460373,
          1.3025862163460373,
          1.3025862163460373,
          1.3025862163460373,
          1.3025862163460373,
          1.3269639967184703,
          1.3269639967184703,
          1.3269639967184703,
          1.3269639967184703,
          1.3448380313345074,
          1.3448380313345074,
          1.3448380313345074,
          1.3561933123677874,
          1.3561933123677874,
          1.3561933123677874,
          1.3561933123677874,
          1.3561933123677874,
          1.367653225217667,
          1.367653225217667,
          1.367653225217667,
          1.367653225217667,
          1.3836558582207552,
          1.4004018752402276,
          1.4601762457277792,
          1.4601762457277792,
          1.4601762457277792,
          1.4800408159075877,
          1.4800408159075877,
          1.5006346295328625,
          1.5006346295328625,
          1.5266961563741743,
          1.5266961563741743,
          1.543929763294242,
          1.543929763294242,
          1.5709997682672203,
          1.5709997682672203,
          1.5709997682672203,
          1.5940063839744556,
          1.6212374404850922,
          1.6212374404850922,
          1.6212374404850922,
          1.6212374404850922,
          1.6212374404850922,
          1.6449206835154524,
          1.6449206835154524,
          1.6449206835154524,
          1.6689987864090214,
          1.6689987864090214,
          1.6958208304475397,
          1.7200137002897948,
          1.7200137002897948,
          1.7200137002897948,
          1.7458528998262892,
          1.7458528998262892,
          1.7458528998262892,
          1.7458528998262892,
          1.7700853425841383,
          1.7700853425841383,
          1.7700853425841383,
          1.7700853425841383,
          1.7700853425841383,
          1.7954085628269352,
          1.7954085628269352,
          1.7954085628269352,
          1.7954085628269352,
          1.7954085628269352,
          1.8192209973449824,
          1.8192209973449824,
          1.8445696363613993,
          1.8958382815328132,
          1.8958382815328132,
          2.0324802760318024,
          2.0324802760318024,
          2.0614661421463327,
          2.0614661421463327,
          2.117913660432798,
          2.117913660432798,
          2.117913660432798,
          2.1457332786595833,
          2.1457332786595833,
          2.1457332786595833,
          2.1457332786595833,
          2.1457332786595833,
          2.1457332786595833,
          2.1457332786595833,
          2.173616230097879,
          2.173616230097879,
          2.201458782738169,
          2.229242055739674,
          2.229242055739674,
          2.2565300618950523,
          2.283385162947521,
          2.283385162947521,
          2.283385162947521,
          2.337244585460124,
          2.3639357801944447,
          2.3639357801944447,
          2.3639357801944447,
          2.446364531556942,
          2.446364531556942,
          2.446364531556942,
          2.4741311386269746,
          2.4741311386269746,
          2.4741311386269746,
          2.502318361017899,
          2.502318361017899,
          2.530869965275603,
          2.5891035996030327,
          2.6181831766544987,
          2.6181831766544987,
          2.677658756193165,
          2.708210752636999,
          2.7380287835129273,
          2.7979562982779447,
          2.828040018159873,
          2.8903338330635076,
          2.921400580434197,
          2.921400580434197,
          2.952328404246446,
          2.952328404246446,
          3.0131048743597892,
          3.0131048743597892,
          3.0436074479969415,
          3.0436074479969415,
          3.0436074479969415,
          3.1040374798902586,
          3.1040374798902586,
          3.134638123786119,
          3.19654475774955,
          3.19654475774955,
          3.19654475774955,
          3.19654475774955,
          3.19654475774955,
          3.2577066487591027,
          3.2896205659465068,
          3.3546142353463675,
          3.3876202016020223,
          3.4193759916443054,
          3.4529244387993727,
          3.5207616851269976,
          3.5207616851269976,
          3.5892433528277374,
          3.623627271694563,
          3.6927969311229285,
          3.6927969311229285,
          3.727622214858769,
          3.727622214858769,
          3.7626091613656367,
          3.797746869630551,
          3.797746869630551,
          3.797746869630551,
          3.833020150898705,
          3.9039066562747373,
          3.9039066562747373,
          4.046625147227984,
          4.082433773379273,
          4.082433773379273,
          4.082433773379273,
          4.190032969568294,
          4.261847798136961,
          4.297767335036718,
          4.333691433747986,
          4.405544862467875,
          4.549234148769446,
          4.621063711065151,
          4.656974406443632,
          4.728787376411697,
          4.764689595005385,
          4.800588961592104,
          4.800588961592104,
          4.908275124712272,
          4.944169473924588,
          5.01596430942896,
          5.051867931306062,
          5.0877776490192845,
          5.0877776490192845,
          5.0877776490192845,
          5.267471642478036,
          5.519788191389297,
          5.519788191389297,
          5.592115439813978,
          5.592115439813978,
          5.773491404063438,
          5.955692371746943,
          5.955692371746943,
          6.102028884501715,
          6.212102953233203,
          6.248855467974029,
          6.285638174617133,
          6.692322876545575,
          6.878504196345257
         ],
         "yaxis": "y"
        }
       ],
       "layout": {
        "legend": {
         "tracegroupgap": 0
        },
        "margin": {
         "t": 60
        },
        "template": {
         "data": {
          "bar": [
           {
            "error_x": {
             "color": "#2a3f5f"
            },
            "error_y": {
             "color": "#2a3f5f"
            },
            "marker": {
             "line": {
              "color": "#E5ECF6",
              "width": 0.5
             },
             "pattern": {
              "fillmode": "overlay",
              "size": 10,
              "solidity": 0.2
             }
            },
            "type": "bar"
           }
          ],
          "barpolar": [
           {
            "marker": {
             "line": {
              "color": "#E5ECF6",
              "width": 0.5
             },
             "pattern": {
              "fillmode": "overlay",
              "size": 10,
              "solidity": 0.2
             }
            },
            "type": "barpolar"
           }
          ],
          "carpet": [
           {
            "aaxis": {
             "endlinecolor": "#2a3f5f",
             "gridcolor": "white",
             "linecolor": "white",
             "minorgridcolor": "white",
             "startlinecolor": "#2a3f5f"
            },
            "baxis": {
             "endlinecolor": "#2a3f5f",
             "gridcolor": "white",
             "linecolor": "white",
             "minorgridcolor": "white",
             "startlinecolor": "#2a3f5f"
            },
            "type": "carpet"
           }
          ],
          "choropleth": [
           {
            "colorbar": {
             "outlinewidth": 0,
             "ticks": ""
            },
            "type": "choropleth"
           }
          ],
          "contour": [
           {
            "colorbar": {
             "outlinewidth": 0,
             "ticks": ""
            },
            "colorscale": [
             [
              0,
              "#0d0887"
             ],
             [
              0.1111111111111111,
              "#46039f"
             ],
             [
              0.2222222222222222,
              "#7201a8"
             ],
             [
              0.3333333333333333,
              "#9c179e"
             ],
             [
              0.4444444444444444,
              "#bd3786"
             ],
             [
              0.5555555555555556,
              "#d8576b"
             ],
             [
              0.6666666666666666,
              "#ed7953"
             ],
             [
              0.7777777777777778,
              "#fb9f3a"
             ],
             [
              0.8888888888888888,
              "#fdca26"
             ],
             [
              1,
              "#f0f921"
             ]
            ],
            "type": "contour"
           }
          ],
          "contourcarpet": [
           {
            "colorbar": {
             "outlinewidth": 0,
             "ticks": ""
            },
            "type": "contourcarpet"
           }
          ],
          "heatmap": [
           {
            "colorbar": {
             "outlinewidth": 0,
             "ticks": ""
            },
            "colorscale": [
             [
              0,
              "#0d0887"
             ],
             [
              0.1111111111111111,
              "#46039f"
             ],
             [
              0.2222222222222222,
              "#7201a8"
             ],
             [
              0.3333333333333333,
              "#9c179e"
             ],
             [
              0.4444444444444444,
              "#bd3786"
             ],
             [
              0.5555555555555556,
              "#d8576b"
             ],
             [
              0.6666666666666666,
              "#ed7953"
             ],
             [
              0.7777777777777778,
              "#fb9f3a"
             ],
             [
              0.8888888888888888,
              "#fdca26"
             ],
             [
              1,
              "#f0f921"
             ]
            ],
            "type": "heatmap"
           }
          ],
          "heatmapgl": [
           {
            "colorbar": {
             "outlinewidth": 0,
             "ticks": ""
            },
            "colorscale": [
             [
              0,
              "#0d0887"
             ],
             [
              0.1111111111111111,
              "#46039f"
             ],
             [
              0.2222222222222222,
              "#7201a8"
             ],
             [
              0.3333333333333333,
              "#9c179e"
             ],
             [
              0.4444444444444444,
              "#bd3786"
             ],
             [
              0.5555555555555556,
              "#d8576b"
             ],
             [
              0.6666666666666666,
              "#ed7953"
             ],
             [
              0.7777777777777778,
              "#fb9f3a"
             ],
             [
              0.8888888888888888,
              "#fdca26"
             ],
             [
              1,
              "#f0f921"
             ]
            ],
            "type": "heatmapgl"
           }
          ],
          "histogram": [
           {
            "marker": {
             "pattern": {
              "fillmode": "overlay",
              "size": 10,
              "solidity": 0.2
             }
            },
            "type": "histogram"
           }
          ],
          "histogram2d": [
           {
            "colorbar": {
             "outlinewidth": 0,
             "ticks": ""
            },
            "colorscale": [
             [
              0,
              "#0d0887"
             ],
             [
              0.1111111111111111,
              "#46039f"
             ],
             [
              0.2222222222222222,
              "#7201a8"
             ],
             [
              0.3333333333333333,
              "#9c179e"
             ],
             [
              0.4444444444444444,
              "#bd3786"
             ],
             [
              0.5555555555555556,
              "#d8576b"
             ],
             [
              0.6666666666666666,
              "#ed7953"
             ],
             [
              0.7777777777777778,
              "#fb9f3a"
             ],
             [
              0.8888888888888888,
              "#fdca26"
             ],
             [
              1,
              "#f0f921"
             ]
            ],
            "type": "histogram2d"
           }
          ],
          "histogram2dcontour": [
           {
            "colorbar": {
             "outlinewidth": 0,
             "ticks": ""
            },
            "colorscale": [
             [
              0,
              "#0d0887"
             ],
             [
              0.1111111111111111,
              "#46039f"
             ],
             [
              0.2222222222222222,
              "#7201a8"
             ],
             [
              0.3333333333333333,
              "#9c179e"
             ],
             [
              0.4444444444444444,
              "#bd3786"
             ],
             [
              0.5555555555555556,
              "#d8576b"
             ],
             [
              0.6666666666666666,
              "#ed7953"
             ],
             [
              0.7777777777777778,
              "#fb9f3a"
             ],
             [
              0.8888888888888888,
              "#fdca26"
             ],
             [
              1,
              "#f0f921"
             ]
            ],
            "type": "histogram2dcontour"
           }
          ],
          "mesh3d": [
           {
            "colorbar": {
             "outlinewidth": 0,
             "ticks": ""
            },
            "type": "mesh3d"
           }
          ],
          "parcoords": [
           {
            "line": {
             "colorbar": {
              "outlinewidth": 0,
              "ticks": ""
             }
            },
            "type": "parcoords"
           }
          ],
          "pie": [
           {
            "automargin": true,
            "type": "pie"
           }
          ],
          "scatter": [
           {
            "fillpattern": {
             "fillmode": "overlay",
             "size": 10,
             "solidity": 0.2
            },
            "type": "scatter"
           }
          ],
          "scatter3d": [
           {
            "line": {
             "colorbar": {
              "outlinewidth": 0,
              "ticks": ""
             }
            },
            "marker": {
             "colorbar": {
              "outlinewidth": 0,
              "ticks": ""
             }
            },
            "type": "scatter3d"
           }
          ],
          "scattercarpet": [
           {
            "marker": {
             "colorbar": {
              "outlinewidth": 0,
              "ticks": ""
             }
            },
            "type": "scattercarpet"
           }
          ],
          "scattergeo": [
           {
            "marker": {
             "colorbar": {
              "outlinewidth": 0,
              "ticks": ""
             }
            },
            "type": "scattergeo"
           }
          ],
          "scattergl": [
           {
            "marker": {
             "colorbar": {
              "outlinewidth": 0,
              "ticks": ""
             }
            },
            "type": "scattergl"
           }
          ],
          "scattermapbox": [
           {
            "marker": {
             "colorbar": {
              "outlinewidth": 0,
              "ticks": ""
             }
            },
            "type": "scattermapbox"
           }
          ],
          "scatterpolar": [
           {
            "marker": {
             "colorbar": {
              "outlinewidth": 0,
              "ticks": ""
             }
            },
            "type": "scatterpolar"
           }
          ],
          "scatterpolargl": [
           {
            "marker": {
             "colorbar": {
              "outlinewidth": 0,
              "ticks": ""
             }
            },
            "type": "scatterpolargl"
           }
          ],
          "scatterternary": [
           {
            "marker": {
             "colorbar": {
              "outlinewidth": 0,
              "ticks": ""
             }
            },
            "type": "scatterternary"
           }
          ],
          "surface": [
           {
            "colorbar": {
             "outlinewidth": 0,
             "ticks": ""
            },
            "colorscale": [
             [
              0,
              "#0d0887"
             ],
             [
              0.1111111111111111,
              "#46039f"
             ],
             [
              0.2222222222222222,
              "#7201a8"
             ],
             [
              0.3333333333333333,
              "#9c179e"
             ],
             [
              0.4444444444444444,
              "#bd3786"
             ],
             [
              0.5555555555555556,
              "#d8576b"
             ],
             [
              0.6666666666666666,
              "#ed7953"
             ],
             [
              0.7777777777777778,
              "#fb9f3a"
             ],
             [
              0.8888888888888888,
              "#fdca26"
             ],
             [
              1,
              "#f0f921"
             ]
            ],
            "type": "surface"
           }
          ],
          "table": [
           {
            "cells": {
             "fill": {
              "color": "#EBF0F8"
             },
             "line": {
              "color": "white"
             }
            },
            "header": {
             "fill": {
              "color": "#C8D4E3"
             },
             "line": {
              "color": "white"
             }
            },
            "type": "table"
           }
          ]
         },
         "layout": {
          "annotationdefaults": {
           "arrowcolor": "#2a3f5f",
           "arrowhead": 0,
           "arrowwidth": 1
          },
          "autotypenumbers": "strict",
          "coloraxis": {
           "colorbar": {
            "outlinewidth": 0,
            "ticks": ""
           }
          },
          "colorscale": {
           "diverging": [
            [
             0,
             "#8e0152"
            ],
            [
             0.1,
             "#c51b7d"
            ],
            [
             0.2,
             "#de77ae"
            ],
            [
             0.3,
             "#f1b6da"
            ],
            [
             0.4,
             "#fde0ef"
            ],
            [
             0.5,
             "#f7f7f7"
            ],
            [
             0.6,
             "#e6f5d0"
            ],
            [
             0.7,
             "#b8e186"
            ],
            [
             0.8,
             "#7fbc41"
            ],
            [
             0.9,
             "#4d9221"
            ],
            [
             1,
             "#276419"
            ]
           ],
           "sequential": [
            [
             0,
             "#0d0887"
            ],
            [
             0.1111111111111111,
             "#46039f"
            ],
            [
             0.2222222222222222,
             "#7201a8"
            ],
            [
             0.3333333333333333,
             "#9c179e"
            ],
            [
             0.4444444444444444,
             "#bd3786"
            ],
            [
             0.5555555555555556,
             "#d8576b"
            ],
            [
             0.6666666666666666,
             "#ed7953"
            ],
            [
             0.7777777777777778,
             "#fb9f3a"
            ],
            [
             0.8888888888888888,
             "#fdca26"
            ],
            [
             1,
             "#f0f921"
            ]
           ],
           "sequentialminus": [
            [
             0,
             "#0d0887"
            ],
            [
             0.1111111111111111,
             "#46039f"
            ],
            [
             0.2222222222222222,
             "#7201a8"
            ],
            [
             0.3333333333333333,
             "#9c179e"
            ],
            [
             0.4444444444444444,
             "#bd3786"
            ],
            [
             0.5555555555555556,
             "#d8576b"
            ],
            [
             0.6666666666666666,
             "#ed7953"
            ],
            [
             0.7777777777777778,
             "#fb9f3a"
            ],
            [
             0.8888888888888888,
             "#fdca26"
            ],
            [
             1,
             "#f0f921"
            ]
           ]
          },
          "colorway": [
           "#636efa",
           "#EF553B",
           "#00cc96",
           "#ab63fa",
           "#FFA15A",
           "#19d3f3",
           "#FF6692",
           "#B6E880",
           "#FF97FF",
           "#FECB52"
          ],
          "font": {
           "color": "#2a3f5f"
          },
          "geo": {
           "bgcolor": "white",
           "lakecolor": "white",
           "landcolor": "#E5ECF6",
           "showlakes": true,
           "showland": true,
           "subunitcolor": "white"
          },
          "hoverlabel": {
           "align": "left"
          },
          "hovermode": "closest",
          "mapbox": {
           "style": "light"
          },
          "paper_bgcolor": "white",
          "plot_bgcolor": "#E5ECF6",
          "polar": {
           "angularaxis": {
            "gridcolor": "white",
            "linecolor": "white",
            "ticks": ""
           },
           "bgcolor": "#E5ECF6",
           "radialaxis": {
            "gridcolor": "white",
            "linecolor": "white",
            "ticks": ""
           }
          },
          "scene": {
           "xaxis": {
            "backgroundcolor": "#E5ECF6",
            "gridcolor": "white",
            "gridwidth": 2,
            "linecolor": "white",
            "showbackground": true,
            "ticks": "",
            "zerolinecolor": "white"
           },
           "yaxis": {
            "backgroundcolor": "#E5ECF6",
            "gridcolor": "white",
            "gridwidth": 2,
            "linecolor": "white",
            "showbackground": true,
            "ticks": "",
            "zerolinecolor": "white"
           },
           "zaxis": {
            "backgroundcolor": "#E5ECF6",
            "gridcolor": "white",
            "gridwidth": 2,
            "linecolor": "white",
            "showbackground": true,
            "ticks": "",
            "zerolinecolor": "white"
           }
          },
          "shapedefaults": {
           "line": {
            "color": "#2a3f5f"
           }
          },
          "ternary": {
           "aaxis": {
            "gridcolor": "white",
            "linecolor": "white",
            "ticks": ""
           },
           "baxis": {
            "gridcolor": "white",
            "linecolor": "white",
            "ticks": ""
           },
           "bgcolor": "#E5ECF6",
           "caxis": {
            "gridcolor": "white",
            "linecolor": "white",
            "ticks": ""
           }
          },
          "title": {
           "x": 0.05
          },
          "xaxis": {
           "automargin": true,
           "gridcolor": "white",
           "linecolor": "white",
           "ticks": "",
           "title": {
            "standoff": 15
           },
           "zerolinecolor": "white",
           "zerolinewidth": 2
          },
          "yaxis": {
           "automargin": true,
           "gridcolor": "white",
           "linecolor": "white",
           "ticks": "",
           "title": {
            "standoff": 15
           },
           "zerolinecolor": "white",
           "zerolinewidth": 2
          }
         }
        },
        "xaxis": {
         "anchor": "y",
         "domain": [
          0,
          1
         ],
         "title": {
          "text": "FGA"
         }
        },
        "yaxis": {
         "anchor": "x",
         "domain": [
          0,
          1
         ],
         "title": {
          "text": "FTA"
         }
        }
       }
      }
     },
     "metadata": {},
     "output_type": "display_data"
    },
    {
     "name": "stdout",
     "output_type": "stream",
     "text": [
      "Index(['Player', 'Team', 'GP', 'MPG', 'PPG', 'FGM', 'FGA', 'FG%', '3PM', '3PA',\n",
      "       '3P%', 'FTM', 'FTA', 'FT%', 'ORB', 'DRB', 'RPG', 'APG', 'SPG', 'BPG',\n",
      "       'TOV', 'PF', 'Position'],\n",
      "      dtype='object')\n"
     ]
    }
   ],
   "source": [
    "from sklearn.decomposition import PCA\n",
    "import plotly.express as px\n",
    "\n",
    "fig = px.scatter(df, x='FGA', y='FTA',\n",
    "                 hover_name='Player',\n",
    "                 trendline=\"lowess\")\n",
    "fig.show()"
   ]
  },
  {
   "cell_type": "code",
   "execution_count": 6,
   "metadata": {},
   "outputs": [],
   "source": [
    "# cluster on 2d and original dimesions\n",
    "# https://dash.plotly.com/layout\n",
    "# graph each team"
   ]
  },
  {
   "cell_type": "code",
   "execution_count": 145,
   "metadata": {},
   "outputs": [
    {
     "data": {
      "application/vnd.plotly.v1+json": {
       "config": {
        "plotlyServerURL": "https://plot.ly"
       },
       "data": [
        {
         "hovertemplate": "<b>%{hovertext}</b><br><br><extra></extra>",
         "hovertext": [
          "Luka Doncic",
          "Stephen Curry",
          "Donovan Mitchell",
          "Giannis Antetokounmpo",
          "Shai Gilgeous-Alexander",
          "Jayson Tatum",
          "Kevin Durant",
          "Ja Morant",
          "Joel Embiid",
          "Devin Booker",
          "Trae Young",
          "Kyrie Irving",
          "Paul George",
          "Jaylen Brown",
          "De'Aaron Fox",
          "LeBron James",
          "Pascal Siakam",
          "Desmond Bane",
          "DeMar DeRozan",
          "Paolo Banchero",
          "Zion Williamson",
          "Keldon Johnson",
          "Anthony Davis",
          "Tyrese Maxey",
          "Lauri Markkanen",
          "Jimmy Butler",
          "Anfernee Simons",
          "James Harden",
          "Tyrese Haliburton",
          "Dejounte Murray",
          "Bradley Beal",
          "Karl-Anthony Towns",
          "Anthony Edwards",
          "Nikola Jokic",
          "Jalen Green",
          "Julius Randle",
          "Bennedict Mathurin",
          "Cade Cunningham",
          "Jrue Holiday",
          "Tyler Herro",
          "R.J. Barrett",
          "Bojan Bogdanovic",
          "Kristaps Porzingis",
          "Jalen Brunson",
          "Jerami Grant",
          "Kevin Porter, Jr.",
          "Fred VanVleet",
          "Kyle Kuzma",
          "Jordan Clarkson",
          "C.J. McCollum",
          "Buddy Hield",
          "Franz Wagner",
          "Kelly Oubre, Jr.",
          "Spencer Dinwiddie",
          "Andrew Wiggins",
          "Gary Trent, Jr.",
          "Michael Porter, Jr.",
          "Bam Adebayo",
          "Gordon Hayward",
          "Alperen Sengun",
          "Saddiq Bey",
          "OG Anunoby",
          "Domantas Sabonis",
          "Kevin Huerter",
          "Nikola Vucevic",
          "Mikal Bridges",
          "Russell Westbrook",
          "Jamal Murray",
          "Wendell Carter, Jr.",
          "Christian Wood",
          "Brook Lopez",
          "P.J. Washington",
          "Jaden Ivey",
          "Lonnie Walker",
          "Evan Mobley",
          "Jordan Poole",
          "Klay Thompson",
          "De'Andre Hunter",
          "Marcus Morris",
          "Tobias Harris",
          "Deandre Ayton",
          "Dillon Brooks",
          "Aaron Gordon",
          "Jonas Valanciunas",
          "Scottie Barnes",
          "Max Strus",
          "Jarrett Allen",
          "Caris LeVert",
          "D'Angelo Russell",
          "Bones Hyland",
          "Rudy Gobert",
          "Malcolm Brogdon",
          "Collin Sexton",
          "Josh Giddey",
          "Bobby Portis",
          "Kyle Lowry",
          "Jusuf Nurkic",
          "Cameron Johnson",
          "Keegan Murray",
          "John Collins",
          "Eric Gordon",
          "Luguentz Dort",
          "Tre Jones",
          "Isaiah Stewart II",
          "John Wall",
          "Jakob Poeltl",
          "Kelly Olynyk",
          "Kevin Love",
          "Malik Monk",
          "Nicolas Claxton",
          "Mike Conley",
          "Ayo Dosunmu",
          "Rui Hachimura",
          "Trey Murphy III",
          "Jaylen Nowell",
          "Kentavious Caldwell-Pope",
          "Tre Mann",
          "Josh Richardson",
          "Norman Powell",
          "Malik Beasley",
          "K.J. Martin",
          "Bol Bol",
          "Tim Hardaway Jr.",
          "Jaden McDaniels",
          "Cameron Payne",
          "Harrison Barnes",
          "Tyus Jones",
          "Grayson Allen",
          "Jalen Smith",
          "Clint Capela",
          "Royce O'Neale",
          "Marcus Smart",
          "Jabari Smith, Jr.",
          "Reggie Jackson",
          "Troy Brown, Jr.",
          "Obi Toppin",
          "Ivica Zubac",
          "Dennis Smith",
          "Al Horford",
          "Goran Dragic",
          "Doug McDermott",
          "Jalen McDaniels",
          "Terrence Ross",
          "Nick Richards",
          "Brandon Clarke",
          "Chris Boucher",
          "Chris Paul",
          "Josh Hart",
          "Shaedon Sharpe",
          "Bruce Brown, Jr.",
          "Cedi Osman",
          "Will Barton",
          "Santi Aldama",
          "Draymond Green",
          "Mason Plumlee",
          "De'Anthony Melton",
          "Georges Niang",
          "Monte Morris",
          "Gabe Vincent",
          "Chris Duarte",
          "Patrick Williams",
          "Precious Achiuwa",
          "Jarred Vanderbilt",
          "Tari Eason",
          "Aleksej Pokusevski",
          "Dorian Finney-Smith",
          "Isaiah Jackson",
          "Naz Reid",
          "Onyeka Okongwu",
          "Zach Collins",
          "Luke Kennard",
          "Grant Williams",
          "Larry Nance, Jr.",
          "Caleb Martin",
          "Coby White",
          "Jevon Carter",
          "Jeff Green",
          "Justise Winslow",
          "Derrick White",
          "Jock Landale",
          "Sam Hauser",
          "Evan Fournier",
          "Taurean Prince",
          "Joe Harris",
          "Jalen Duren",
          "Jeremiah Robinson-Earl",
          "Talen Horton-Tucker",
          "Trey Lyles",
          "Isaiah Hartenstein",
          "Immanuel Quickley",
          "John Konchar",
          "Jose Alvarado",
          "James Wiseman",
          "Davion Mitchell",
          "Dean Wade",
          "Keita Bates-Diop",
          "Naji Marshall",
          "Mike Muscala",
          "Cam Reddish",
          "Edmond Sumner",
          "Landry Shamet",
          "Joshua Primo",
          "Austin Reaves",
          "Jeremy Sochan",
          "Dwight Powell",
          "Nassir Little",
          "Terance Mann",
          "Justin Holiday",
          "Steven Adams",
          "Duncan Robinson",
          "Mitchell Robinson",
          "Andrew Nembhard",
          "Delon Wright",
          "Javonte Green",
          "Jake LaRavia",
          "R.J. Hampton",
          "Kevon Looney",
          "Josh Green",
          "Damion Lee",
          "Daniel Gafford",
          "Moses Moody",
          "Walker Kessler",
          "James Bouknight",
          "Darius Bazley",
          "Kenrich Williams",
          "DeAndre Jordan",
          "Mohamed Bamba",
          "Derrick Rose",
          "Ty Jerome",
          "Derrick Jones",
          "Terence Davis",
          "MarJon Beauchamp",
          "Drew Eubanks",
          "Dewayne Dedmon",
          "Patty Mills",
          "Jordan Nwora",
          "Yuta Watanabe",
          "Isaiah Livers",
          "George Hill",
          "P.J. Tucker",
          "Torrey Craig",
          "Chuma Okeke",
          "David Roddy",
          "Kendrick Nunn",
          "Deni Avdija",
          "Aaron Holiday",
          "Hamidou Diallo",
          "Aaron Wiggins",
          "Devonte' Graham",
          "Maxi Kleber",
          "Reggie Bullock",
          "Patrick Beverley",
          "Matt Ryan",
          "Jonathan Kuminga",
          "Alex Caruso",
          "JaMychal Green",
          "Goga Bitadze",
          "Montrezl Harrell",
          "Rudy Gay",
          "Jalen Johnson",
          "JaVale McGee",
          "Anthony Gill",
          "Garrison Mathews",
          "Danuel House",
          "Dalano Banton",
          "T.J. McConnell",
          "Christian Koloko",
          "Killian Hayes",
          "Richaun Holmes",
          "Daishen Nix",
          "Wenyen Gabriel",
          "Kevon Harris",
          "Nicolas Batum",
          "Wesley Matthews",
          "Theo Maledon",
          "Usman Garuba",
          "Christian Braun",
          "Jordan McLaughlin",
          "Serge Ibaka",
          "Cory Joseph",
          "Isaiah Joe",
          "Ousmane Dieng",
          "Bismack Biyombo",
          "Damian Jones",
          "J.T. Thor",
          "Amir Coffey",
          "Juan Toscano-Anderson",
          "Noah Vonleh",
          "Thaddeus Young",
          "Zeke Nnaji",
          "Isaac Okoro",
          "Matisse Thybulle",
          "Josh Okogie",
          "Paul Reed, Jr.",
          "KZ Okpala",
          "Jaxson Hayes",
          "Cody Martin"
         ],
         "legendgroup": "",
         "marker": {
          "color": "#636efa",
          "symbol": "circle"
         },
         "mode": "markers",
         "name": "",
         "orientation": "v",
         "showlegend": false,
         "type": "scatter",
         "x": [
          31.916919968126525,
          28.286652646329397,
          29.769650631362232,
          26.990897173809493,
          27.483499332973683,
          28.069389457710738,
          27.56241136527102,
          23.3923390616084,
          23.476763745041254,
          24.119071294963703,
          25.064723648284232,
          26.046671455700942,
          22.222320944802092,
          22.991626619353813,
          18.758337468129987,
          23.67067193228223,
          22.44806800025315,
          19.643176815429772,
          19.06117025662775,
          20.104165837296197,
          16.68295358474514,
          18.815925477267594,
          18.91435253430911,
          20.797301821491224,
          17.42966687926075,
          18.584088863047995,
          19.039068435149915,
          20.214630759642386,
          16.783473946821626,
          20.168888767071714,
          17.060143620752356,
          17.813379358611613,
          19.206328074815147,
          15.25957448499297,
          16.813110237079446,
          16.30507329038599,
          10.88062032305006,
          16.768988150453144,
          15.649283498102367,
          13.529673348582003,
          16.067922990813162,
          11.152297832338592,
          12.747806225706487,
          14.40030578920376,
          14.678305993397837,
          16.24825885922736,
          16.89888341068451,
          14.067309114462086,
          12.542930965148825,
          17.195392055442575,
          12.572365050972826,
          14.075741490361112,
          12.12691610062377,
          12.815270112764182,
          13.707454010897118,
          12.45166554965065,
          10.281810346006646,
          14.052379406464288,
          10.593615628227289,
          7.348244765194607,
          10.73568562577548,
          13.416220427519757,
          11.355022991821466,
          9.24268055590273,
          11.71760125909596,
          12.025475256971964,
          9.113057615298988,
          7.3548931380364255,
          10.677489907807278,
          4.275708889916215,
          9.264901298033726,
          9.466149794118204,
          9.729663549115333,
          8.359241264551464,
          9.844839536285347,
          7.411995230232409,
          7.750444845922099,
          7.269915289090476,
          8.91097488126707,
          10.148549323706565,
          4.854181719846409,
          7.042675770816628,
          6.152522197695629,
          3.9654783557485653,
          8.812187107733147,
          8.40364000407396,
          8.757586859767335,
          11.24217238250108,
          7.801414799678948,
          0.4914840655698811,
          8.060863382383301,
          1.4432652954288667,
          0.3184033000514608,
          7.861555810160425,
          4.748821414714464,
          9.506589035433635,
          6.103100227800054,
          2.203182048485722,
          6.949150841203808,
          6.57838420915346,
          5.311053599897557,
          7.431811228691767,
          6.08418385068982,
          4.345856552595499,
          0.5868457109488643,
          4.675856749907935,
          1.8342521297442624,
          -0.9538740991474386,
          -0.6892153625340773,
          3.100417074781799,
          5.078220042479746,
          4.739560008135558,
          0.5266934773321102,
          3.650075698801523,
          -2.488953046915586,
          4.520948493741379,
          1.879299688799238,
          -0.6472516532006034,
          0.9317784505835912,
          0.6671899749120335,
          0.7566886943096783,
          -1.639064856141683,
          -0.22431750771807998,
          2.1109799532075737,
          -3.266226161290255,
          5.245189063759247,
          -1.5125024788159722,
          0.7963875682917303,
          -0.12196433219337673,
          1.5514215309415313,
          7.9937883741249625,
          5.9816262987556055,
          4.416537133320007,
          2.821220530527478,
          1.022753673689713,
          -5.572830117661973,
          3.7933318247745165,
          3.001053262507735,
          3.0014153656872553,
          -4.953088806343597,
          -3.8136282636140755,
          0.4637040855501335,
          0.11559882801523462,
          -5.611798564008341,
          -6.50968025905503,
          -5.073861303167635,
          3.260928698935086,
          7.065026992661591,
          -4.773294486386409,
          -0.5384389085491736,
          -4.678354268379392,
          -1.3509751976458368,
          0.2765228763140995,
          1.7248543253919297,
          -0.37275122567859503,
          -1.5285481989801657,
          -6.960383677761488,
          0.0002469886907155043,
          -1.212099918457127,
          -5.646993339633218,
          -2.160515037648572,
          -4.1823857895042,
          -1.294384228762773,
          -6.514271049127863,
          -2.25382785072962,
          2.3968275251452313,
          -7.196281236869039,
          -11.135968462561593,
          -6.359208703197883,
          -7.260755636595734,
          -5.031363311173678,
          -2.852787576785796,
          -4.462905882159591,
          -0.5482592279888475,
          -4.61379215270562,
          -1.9384167098513987,
          -6.890546476540058,
          -0.9609200329543538,
          -3.053960441369893,
          -9.11979588529737,
          -11.069780193344661,
          -5.626170372079466,
          -7.017292857824928,
          -2.390358853609044,
          -5.357243991675666,
          -8.742096674898443,
          -8.443308611757953,
          -10.040597163854402,
          -3.3332280983381666,
          -4.592415579471129,
          -3.3688659073587797,
          -7.76738503279824,
          -11.575213020589466,
          -7.647845867912342,
          -5.788846126385489,
          -12.122592027854465,
          -6.96023777007536,
          -10.726596251208981,
          -7.001794842351186,
          -10.386601065747309,
          -10.238160381861942,
          -4.366324817664928,
          -3.943726328090837,
          -5.050611437257533,
          -9.057327977486421,
          -11.035168980456785,
          -9.524106167452413,
          -7.724990300399039,
          -1.8742483614988017,
          -9.331808150385417,
          -6.992368082206456,
          -7.56902446320271,
          -5.861278171296788,
          -9.393822186684986,
          -9.385436059995662,
          -11.478076221707873,
          -5.49549221095581,
          -10.125874783099972,
          -9.168267491158275,
          -12.302126963128066,
          -10.389216551626971,
          -12.172559795520666,
          -7.64648824705868,
          -9.970022223771071,
          -7.682792300235553,
          -13.115198050819403,
          -12.167730347321882,
          -12.689816817052067,
          -12.537371762231915,
          -12.79491310485606,
          -13.680564621565068,
          -12.16700615316491,
          -11.874223691216915,
          -14.427305031314104,
          -13.909850053538424,
          -10.119428249347415,
          -12.190109075626552,
          -9.75914480125547,
          -7.710302401363846,
          -3.8615643518765217,
          -10.411409227670315,
          -9.333103221511141,
          -9.816283190286418,
          -12.635386460690823,
          -7.877444679048787,
          -10.217629063857888,
          -13.186137352541799,
          -9.100081197599092,
          -11.513264179091715,
          -5.285340081409334,
          -2.544467200268685,
          -3.230953824130876,
          -14.410448969122355,
          -13.76727486027173,
          -5.273783598987775,
          -11.349721547886347,
          -14.505583332144505,
          -16.339454076755832,
          -12.05667956755126,
          -13.775384619945553,
          -17.453949374060706,
          -14.501789563553373,
          -15.472698804324697,
          -12.916885792702018,
          -18.283750693796804,
          -12.724812161167648,
          -11.958746687363414,
          -10.535499624746729,
          -15.958623034776528,
          -14.591794319296328,
          -15.609556710395655,
          -14.857766253229556,
          -11.880295470218332,
          -13.089733506663086,
          -15.452809695888897,
          -14.37396742861253,
          -14.36369436492331,
          -12.83861775675298,
          -17.299528927248442,
          -15.598333922701478,
          -21.898104897032944,
          -14.064498876440014,
          -16.300889154768406,
          -19.34763596569995,
          -17.153400974274938,
          -20.200692967708655,
          -16.21822869602728,
          -18.05533828403033,
          -18.493079720136233,
          -23.58975271031171,
          -16.17406074143537,
          -19.708561443493032,
          -23.549959390464952,
          -22.27134646669517,
          -23.42229293833574,
          -22.70996489964537,
          -28.083992973248716
         ],
         "xaxis": "x",
         "y": [
          -9.75263812453554,
          -9.630025149817373,
          -7.218259901837632,
          -9.332658022916927,
          -8.347599295897082,
          -7.169652239093198,
          -6.6335011846114424,
          -8.97298624382408,
          -5.535319133737953,
          -5.531813725214379,
          -8.87088843448963,
          -4.310841373382654,
          -3.6914055550643265,
          -3.2536848084828653,
          -6.039369603397237,
          -3.62157224624863,
          -2.7734816283317443,
          -4.82840079789365,
          -3.888767995903309,
          -2.45739662652591,
          -3.9944789806803236,
          -3.381382333249668,
          -0.5554875966497562,
          -1.3342427150448726,
          -1.601310816905201,
          -0.8347863717866851,
          -2.9443791783630058,
          -0.518361978031319,
          -2.1361191270010944,
          -0.3034094632813044,
          -1.6663419591170698,
          0.5601972425183521,
          -0.35335009630759573,
          -0.8130965338432554,
          -2.3937354414071925,
          -0.20920445751989628,
          -5.443074009021924,
          -1.4383704496133545,
          -1.3886449916879209,
          -1.7436778126724377,
          0.150515616689726,
          -2.4101026084624166,
          -0.9008023332620272,
          -0.5969010654468976,
          0.9625943718057415,
          0.7898623339998836,
          1.7014547216934242,
          0.5378292991721579,
          -1.7324113188431487,
          0.7870117119011066,
          -0.8108059598168779,
          0.6627530339899328,
          -2.253024320220865,
          -0.25096340857017535,
          1.319903610725541,
          -0.14179143719931506,
          -0.3720041967544791,
          3.911161634569524,
          -1.2005035528237453,
          -0.6525340465276506,
          0.6544179525809649,
          4.074178099584672,
          2.7562405158547567,
          0.2997599181968506,
          3.502913886579923,
          5.271218816665379,
          -1.018200994066639,
          -2.3393420157435947,
          4.400088217621312,
          -1.7548742640226878,
          2.4129228880510882,
          1.40085251819959,
          1.6646441409455102,
          0.08663442466097328,
          4.40487581378063,
          -1.7687574240752146,
          -2.7442791109293596,
          0.7943290862536989,
          2.7320743732599913,
          4.208111796735288,
          0.3478794006905689,
          -0.6452922395080066,
          1.9764097292121179,
          0.3374851652953822,
          3.1019966494901547,
          2.8358558520453006,
          6.243693363818903,
          4.998901050335767,
          0.5841980974298047,
          -6.120810205518121,
          6.942771014761368,
          -3.022459402732194,
          -3.7827281075097567,
          1.8084461575415645,
          1.9496593555448252,
          5.991127615922231,
          4.764766777159674,
          -1.3412552399540785,
          3.6627555561635154,
          5.279943669276632,
          2.214743412764971,
          2.6928643377529573,
          2.7182340014574344,
          3.6702395292128496,
          -3.7332169079185507,
          5.126113387780122,
          1.8164974552016913,
          -2.1588912635731474,
          -3.4884979073119355,
          4.757747842836051,
          2.6571585110215756,
          3.8475336269706215,
          -0.39918843893818967,
          3.7634951548139366,
          -4.561116988248587,
          5.00722571007094,
          -0.14445889973449708,
          -1.4901258588855115,
          -0.1856030296867122,
          0.15888001233093862,
          1.4205536706212916,
          1.1787162533133504,
          -2.3780472444321026,
          4.105085193234462,
          -4.124146527678788,
          5.873716446594493,
          -1.646467008515459,
          1.869258784972719,
          1.3180004041816071,
          5.513315349694726,
          9.109154824160575,
          5.84551684011295,
          4.193026935036742,
          2.902629086252959,
          2.978437391869708,
          -3.544661389281061,
          8.507595902825853,
          4.501492825797745,
          6.667466924093808,
          -2.949137155336568,
          -1.778459539965237,
          3.220756832242862,
          2.797237509623155,
          -0.43086733935892435,
          -1.7730637753601255,
          -1.2275130581294127,
          5.172126831784534,
          11.60096886847218,
          -0.6349106682368533,
          2.813578648915646,
          -0.9297908002360471,
          1.4795893399837616,
          4.497835280490466,
          6.89529054763328,
          5.663836650110021,
          2.102466813315202,
          -2.264124441553078,
          3.9516275815766457,
          2.0918833302716164,
          -2.2228182438370223,
          2.7105093603322166,
          0.29475756324255276,
          5.210364838523175,
          -1.321287811397354,
          2.040726402129655,
          7.953477646527753,
          -0.6360690823391124,
          -5.277206740758617,
          1.286731917333154,
          -1.5433458635890678,
          1.315380035390449,
          4.843866185515304,
          2.9366405011324357,
          5.25673161502686,
          -0.6199304135610586,
          3.4196593412406093,
          -0.26065714977019616,
          4.490873683505896,
          3.582467264305183,
          -2.608789870947284,
          -3.6669555450218856,
          -0.21234705591361935,
          0.03492622632401595,
          3.54773597720841,
          2.4319704949164622,
          -1.4572939129128288,
          -2.30379671030895,
          -3.376514842633434,
          5.3590655591219445,
          0.9833300072343433,
          4.627603237915865,
          -0.902841176396123,
          -3.207789716548023,
          -0.9119401468684865,
          2.859717653028923,
          -4.442727961032708,
          0.4162693807110726,
          -3.487610979314789,
          0.31960657041755725,
          -2.6945701350391564,
          -3.161539768137572,
          1.389878289394979,
          4.737913082988296,
          3.055505380984221,
          0.4044974075450289,
          -2.137951241675352,
          -0.1725294813403244,
          -0.201332993384878,
          8.707080639345078,
          -1.621163883053595,
          3.703481848494457,
          0.49690346182166745,
          1.48379555849157,
          0.5836304770929523,
          0.6420837498812774,
          -2.1137157487652085,
          5.219218800279478,
          0.4875162532045386,
          0.0321113959631532,
          -1.3943528789210535,
          -1.2304311676923902,
          -0.8949801376582912,
          0.25605567847584737,
          -0.3925345810143731,
          2.332382906765103,
          -1.6209336930216447,
          -2.1863109812475914,
          -4.195126093219435,
          -2.761203991223058,
          -2.3799265833207026,
          -4.464648443805362,
          -3.0292882926902807,
          -0.14993762330900112,
          -3.359321066549975,
          -3.648648834297837,
          -0.6103588156495356,
          -0.7702000263581485,
          0.4255018434399299,
          2.8832027030817167,
          8.546122850422993,
          0.7839976328922215,
          2.0901020717078587,
          0.26449796121265884,
          -3.452381144739561,
          2.757174217008545,
          1.3961827268145746,
          -2.1868877984020623,
          2.1705410755393797,
          -0.27742670391689794,
          6.812671097530788,
          8.612014589444355,
          7.9706782104566365,
          -3.5421993834208285,
          -2.459657789126385,
          6.537802530175421,
          1.096480353660869,
          -2.1400331693762586,
          -3.0632104399842786,
          -0.3868814953582485,
          -0.8128698040385042,
          -4.265745544094658,
          -0.7648608722167868,
          -2.819812384250258,
          0.39887857403497007,
          -5.489636608499009,
          -0.4263741435586139,
          1.7530116552051982,
          0.8430544457670501,
          -1.6935074297644037,
          -1.601844154008087,
          -1.6079299405512726,
          -1.7214451866679865,
          2.12762809383136,
          0.4827995599826087,
          -1.794436638834506,
          0.4501944002677572,
          -0.4728883196600344,
          0.4186926534478622,
          -2.7017126832773997,
          -1.7191480436286384,
          -7.64455660425456,
          -0.5540050481901452,
          -0.8188771506673979,
          -4.148399683538631,
          -1.910732684328603,
          -4.050171841197428,
          -0.5098970188736933,
          -0.9371260054355907,
          -1.8104757683479633,
          -7.043766978049094,
          0.4008111346789246,
          -1.9467811823179215,
          -5.456586766225478,
          -3.091654687491889,
          -4.3539395847554205,
          -3.804152201508558,
          -8.502049837695198
         ],
         "yaxis": "y"
        }
       ],
       "layout": {
        "legend": {
         "tracegroupgap": 0
        },
        "margin": {
         "t": 60
        },
        "template": {
         "data": {
          "bar": [
           {
            "error_x": {
             "color": "#2a3f5f"
            },
            "error_y": {
             "color": "#2a3f5f"
            },
            "marker": {
             "line": {
              "color": "#E5ECF6",
              "width": 0.5
             },
             "pattern": {
              "fillmode": "overlay",
              "size": 10,
              "solidity": 0.2
             }
            },
            "type": "bar"
           }
          ],
          "barpolar": [
           {
            "marker": {
             "line": {
              "color": "#E5ECF6",
              "width": 0.5
             },
             "pattern": {
              "fillmode": "overlay",
              "size": 10,
              "solidity": 0.2
             }
            },
            "type": "barpolar"
           }
          ],
          "carpet": [
           {
            "aaxis": {
             "endlinecolor": "#2a3f5f",
             "gridcolor": "white",
             "linecolor": "white",
             "minorgridcolor": "white",
             "startlinecolor": "#2a3f5f"
            },
            "baxis": {
             "endlinecolor": "#2a3f5f",
             "gridcolor": "white",
             "linecolor": "white",
             "minorgridcolor": "white",
             "startlinecolor": "#2a3f5f"
            },
            "type": "carpet"
           }
          ],
          "choropleth": [
           {
            "colorbar": {
             "outlinewidth": 0,
             "ticks": ""
            },
            "type": "choropleth"
           }
          ],
          "contour": [
           {
            "colorbar": {
             "outlinewidth": 0,
             "ticks": ""
            },
            "colorscale": [
             [
              0,
              "#0d0887"
             ],
             [
              0.1111111111111111,
              "#46039f"
             ],
             [
              0.2222222222222222,
              "#7201a8"
             ],
             [
              0.3333333333333333,
              "#9c179e"
             ],
             [
              0.4444444444444444,
              "#bd3786"
             ],
             [
              0.5555555555555556,
              "#d8576b"
             ],
             [
              0.6666666666666666,
              "#ed7953"
             ],
             [
              0.7777777777777778,
              "#fb9f3a"
             ],
             [
              0.8888888888888888,
              "#fdca26"
             ],
             [
              1,
              "#f0f921"
             ]
            ],
            "type": "contour"
           }
          ],
          "contourcarpet": [
           {
            "colorbar": {
             "outlinewidth": 0,
             "ticks": ""
            },
            "type": "contourcarpet"
           }
          ],
          "heatmap": [
           {
            "colorbar": {
             "outlinewidth": 0,
             "ticks": ""
            },
            "colorscale": [
             [
              0,
              "#0d0887"
             ],
             [
              0.1111111111111111,
              "#46039f"
             ],
             [
              0.2222222222222222,
              "#7201a8"
             ],
             [
              0.3333333333333333,
              "#9c179e"
             ],
             [
              0.4444444444444444,
              "#bd3786"
             ],
             [
              0.5555555555555556,
              "#d8576b"
             ],
             [
              0.6666666666666666,
              "#ed7953"
             ],
             [
              0.7777777777777778,
              "#fb9f3a"
             ],
             [
              0.8888888888888888,
              "#fdca26"
             ],
             [
              1,
              "#f0f921"
             ]
            ],
            "type": "heatmap"
           }
          ],
          "heatmapgl": [
           {
            "colorbar": {
             "outlinewidth": 0,
             "ticks": ""
            },
            "colorscale": [
             [
              0,
              "#0d0887"
             ],
             [
              0.1111111111111111,
              "#46039f"
             ],
             [
              0.2222222222222222,
              "#7201a8"
             ],
             [
              0.3333333333333333,
              "#9c179e"
             ],
             [
              0.4444444444444444,
              "#bd3786"
             ],
             [
              0.5555555555555556,
              "#d8576b"
             ],
             [
              0.6666666666666666,
              "#ed7953"
             ],
             [
              0.7777777777777778,
              "#fb9f3a"
             ],
             [
              0.8888888888888888,
              "#fdca26"
             ],
             [
              1,
              "#f0f921"
             ]
            ],
            "type": "heatmapgl"
           }
          ],
          "histogram": [
           {
            "marker": {
             "pattern": {
              "fillmode": "overlay",
              "size": 10,
              "solidity": 0.2
             }
            },
            "type": "histogram"
           }
          ],
          "histogram2d": [
           {
            "colorbar": {
             "outlinewidth": 0,
             "ticks": ""
            },
            "colorscale": [
             [
              0,
              "#0d0887"
             ],
             [
              0.1111111111111111,
              "#46039f"
             ],
             [
              0.2222222222222222,
              "#7201a8"
             ],
             [
              0.3333333333333333,
              "#9c179e"
             ],
             [
              0.4444444444444444,
              "#bd3786"
             ],
             [
              0.5555555555555556,
              "#d8576b"
             ],
             [
              0.6666666666666666,
              "#ed7953"
             ],
             [
              0.7777777777777778,
              "#fb9f3a"
             ],
             [
              0.8888888888888888,
              "#fdca26"
             ],
             [
              1,
              "#f0f921"
             ]
            ],
            "type": "histogram2d"
           }
          ],
          "histogram2dcontour": [
           {
            "colorbar": {
             "outlinewidth": 0,
             "ticks": ""
            },
            "colorscale": [
             [
              0,
              "#0d0887"
             ],
             [
              0.1111111111111111,
              "#46039f"
             ],
             [
              0.2222222222222222,
              "#7201a8"
             ],
             [
              0.3333333333333333,
              "#9c179e"
             ],
             [
              0.4444444444444444,
              "#bd3786"
             ],
             [
              0.5555555555555556,
              "#d8576b"
             ],
             [
              0.6666666666666666,
              "#ed7953"
             ],
             [
              0.7777777777777778,
              "#fb9f3a"
             ],
             [
              0.8888888888888888,
              "#fdca26"
             ],
             [
              1,
              "#f0f921"
             ]
            ],
            "type": "histogram2dcontour"
           }
          ],
          "mesh3d": [
           {
            "colorbar": {
             "outlinewidth": 0,
             "ticks": ""
            },
            "type": "mesh3d"
           }
          ],
          "parcoords": [
           {
            "line": {
             "colorbar": {
              "outlinewidth": 0,
              "ticks": ""
             }
            },
            "type": "parcoords"
           }
          ],
          "pie": [
           {
            "automargin": true,
            "type": "pie"
           }
          ],
          "scatter": [
           {
            "fillpattern": {
             "fillmode": "overlay",
             "size": 10,
             "solidity": 0.2
            },
            "type": "scatter"
           }
          ],
          "scatter3d": [
           {
            "line": {
             "colorbar": {
              "outlinewidth": 0,
              "ticks": ""
             }
            },
            "marker": {
             "colorbar": {
              "outlinewidth": 0,
              "ticks": ""
             }
            },
            "type": "scatter3d"
           }
          ],
          "scattercarpet": [
           {
            "marker": {
             "colorbar": {
              "outlinewidth": 0,
              "ticks": ""
             }
            },
            "type": "scattercarpet"
           }
          ],
          "scattergeo": [
           {
            "marker": {
             "colorbar": {
              "outlinewidth": 0,
              "ticks": ""
             }
            },
            "type": "scattergeo"
           }
          ],
          "scattergl": [
           {
            "marker": {
             "colorbar": {
              "outlinewidth": 0,
              "ticks": ""
             }
            },
            "type": "scattergl"
           }
          ],
          "scattermapbox": [
           {
            "marker": {
             "colorbar": {
              "outlinewidth": 0,
              "ticks": ""
             }
            },
            "type": "scattermapbox"
           }
          ],
          "scatterpolar": [
           {
            "marker": {
             "colorbar": {
              "outlinewidth": 0,
              "ticks": ""
             }
            },
            "type": "scatterpolar"
           }
          ],
          "scatterpolargl": [
           {
            "marker": {
             "colorbar": {
              "outlinewidth": 0,
              "ticks": ""
             }
            },
            "type": "scatterpolargl"
           }
          ],
          "scatterternary": [
           {
            "marker": {
             "colorbar": {
              "outlinewidth": 0,
              "ticks": ""
             }
            },
            "type": "scatterternary"
           }
          ],
          "surface": [
           {
            "colorbar": {
             "outlinewidth": 0,
             "ticks": ""
            },
            "colorscale": [
             [
              0,
              "#0d0887"
             ],
             [
              0.1111111111111111,
              "#46039f"
             ],
             [
              0.2222222222222222,
              "#7201a8"
             ],
             [
              0.3333333333333333,
              "#9c179e"
             ],
             [
              0.4444444444444444,
              "#bd3786"
             ],
             [
              0.5555555555555556,
              "#d8576b"
             ],
             [
              0.6666666666666666,
              "#ed7953"
             ],
             [
              0.7777777777777778,
              "#fb9f3a"
             ],
             [
              0.8888888888888888,
              "#fdca26"
             ],
             [
              1,
              "#f0f921"
             ]
            ],
            "type": "surface"
           }
          ],
          "table": [
           {
            "cells": {
             "fill": {
              "color": "#EBF0F8"
             },
             "line": {
              "color": "white"
             }
            },
            "header": {
             "fill": {
              "color": "#C8D4E3"
             },
             "line": {
              "color": "white"
             }
            },
            "type": "table"
           }
          ]
         },
         "layout": {
          "annotationdefaults": {
           "arrowcolor": "#2a3f5f",
           "arrowhead": 0,
           "arrowwidth": 1
          },
          "autotypenumbers": "strict",
          "coloraxis": {
           "colorbar": {
            "outlinewidth": 0,
            "ticks": ""
           }
          },
          "colorscale": {
           "diverging": [
            [
             0,
             "#8e0152"
            ],
            [
             0.1,
             "#c51b7d"
            ],
            [
             0.2,
             "#de77ae"
            ],
            [
             0.3,
             "#f1b6da"
            ],
            [
             0.4,
             "#fde0ef"
            ],
            [
             0.5,
             "#f7f7f7"
            ],
            [
             0.6,
             "#e6f5d0"
            ],
            [
             0.7,
             "#b8e186"
            ],
            [
             0.8,
             "#7fbc41"
            ],
            [
             0.9,
             "#4d9221"
            ],
            [
             1,
             "#276419"
            ]
           ],
           "sequential": [
            [
             0,
             "#0d0887"
            ],
            [
             0.1111111111111111,
             "#46039f"
            ],
            [
             0.2222222222222222,
             "#7201a8"
            ],
            [
             0.3333333333333333,
             "#9c179e"
            ],
            [
             0.4444444444444444,
             "#bd3786"
            ],
            [
             0.5555555555555556,
             "#d8576b"
            ],
            [
             0.6666666666666666,
             "#ed7953"
            ],
            [
             0.7777777777777778,
             "#fb9f3a"
            ],
            [
             0.8888888888888888,
             "#fdca26"
            ],
            [
             1,
             "#f0f921"
            ]
           ],
           "sequentialminus": [
            [
             0,
             "#0d0887"
            ],
            [
             0.1111111111111111,
             "#46039f"
            ],
            [
             0.2222222222222222,
             "#7201a8"
            ],
            [
             0.3333333333333333,
             "#9c179e"
            ],
            [
             0.4444444444444444,
             "#bd3786"
            ],
            [
             0.5555555555555556,
             "#d8576b"
            ],
            [
             0.6666666666666666,
             "#ed7953"
            ],
            [
             0.7777777777777778,
             "#fb9f3a"
            ],
            [
             0.8888888888888888,
             "#fdca26"
            ],
            [
             1,
             "#f0f921"
            ]
           ]
          },
          "colorway": [
           "#636efa",
           "#EF553B",
           "#00cc96",
           "#ab63fa",
           "#FFA15A",
           "#19d3f3",
           "#FF6692",
           "#B6E880",
           "#FF97FF",
           "#FECB52"
          ],
          "font": {
           "color": "#2a3f5f"
          },
          "geo": {
           "bgcolor": "white",
           "lakecolor": "white",
           "landcolor": "#E5ECF6",
           "showlakes": true,
           "showland": true,
           "subunitcolor": "white"
          },
          "hoverlabel": {
           "align": "left"
          },
          "hovermode": "closest",
          "mapbox": {
           "style": "light"
          },
          "paper_bgcolor": "white",
          "plot_bgcolor": "#E5ECF6",
          "polar": {
           "angularaxis": {
            "gridcolor": "white",
            "linecolor": "white",
            "ticks": ""
           },
           "bgcolor": "#E5ECF6",
           "radialaxis": {
            "gridcolor": "white",
            "linecolor": "white",
            "ticks": ""
           }
          },
          "scene": {
           "xaxis": {
            "backgroundcolor": "#E5ECF6",
            "gridcolor": "white",
            "gridwidth": 2,
            "linecolor": "white",
            "showbackground": true,
            "ticks": "",
            "zerolinecolor": "white"
           },
           "yaxis": {
            "backgroundcolor": "#E5ECF6",
            "gridcolor": "white",
            "gridwidth": 2,
            "linecolor": "white",
            "showbackground": true,
            "ticks": "",
            "zerolinecolor": "white"
           },
           "zaxis": {
            "backgroundcolor": "#E5ECF6",
            "gridcolor": "white",
            "gridwidth": 2,
            "linecolor": "white",
            "showbackground": true,
            "ticks": "",
            "zerolinecolor": "white"
           }
          },
          "shapedefaults": {
           "line": {
            "color": "#2a3f5f"
           }
          },
          "ternary": {
           "aaxis": {
            "gridcolor": "white",
            "linecolor": "white",
            "ticks": ""
           },
           "baxis": {
            "gridcolor": "white",
            "linecolor": "white",
            "ticks": ""
           },
           "bgcolor": "#E5ECF6",
           "caxis": {
            "gridcolor": "white",
            "linecolor": "white",
            "ticks": ""
           }
          },
          "title": {
           "x": 0.05
          },
          "xaxis": {
           "automargin": true,
           "gridcolor": "white",
           "linecolor": "white",
           "ticks": "",
           "title": {
            "standoff": 15
           },
           "zerolinecolor": "white",
           "zerolinewidth": 2
          },
          "yaxis": {
           "automargin": true,
           "gridcolor": "white",
           "linecolor": "white",
           "ticks": "",
           "title": {
            "standoff": 15
           },
           "zerolinecolor": "white",
           "zerolinewidth": 2
          }
         }
        },
        "xaxis": {
         "anchor": "y",
         "domain": [
          0,
          1
         ],
         "title": {
          "text": "x"
         }
        },
        "yaxis": {
         "anchor": "x",
         "domain": [
          0,
          1
         ],
         "title": {
          "text": "y"
         }
        }
       }
      }
     },
     "metadata": {},
     "output_type": "display_data"
    }
   ],
   "source": [
    "X = np.array(df[all_features])\n",
    "pca = PCA(n_components=2)\n",
    "principalComponents = pca.fit_transform(X)\n",
    "\n",
    "plotly_df = pd.DataFrame(principalComponents, columns=['x','y'])\n",
    "plotly_df['Player'] = list(df['Player'])\n",
    "\n",
    "fig = px.scatter(plotly_df, x='x', y='y',\n",
    "                 hover_data={'x': False, 'y': False}, \n",
    "                 hover_name=df['Player'])\n",
    "fig.show()"
   ]
  }
 ],
 "metadata": {
  "kernelspec": {
   "display_name": "Python 3.9.6 64-bit",
   "language": "python",
   "name": "python3"
  },
  "language_info": {
   "codemirror_mode": {
    "name": "ipython",
    "version": 3
   },
   "file_extension": ".py",
   "mimetype": "text/x-python",
   "name": "python",
   "nbconvert_exporter": "python",
   "pygments_lexer": "ipython3",
   "version": "3.9.6"
  },
  "orig_nbformat": 4,
  "vscode": {
   "interpreter": {
    "hash": "31f2aee4e71d21fbe5cf8b01ff0e069b9275f58929596ceb00d14d90e3e16cd6"
   }
  }
 },
 "nbformat": 4,
 "nbformat_minor": 2
}
